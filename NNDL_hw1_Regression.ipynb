{
  "nbformat": 4,
  "nbformat_minor": 0,
  "metadata": {
    "colab": {
      "name": "NNDL hw1 Regression.ipynb",
      "provenance": [],
      "collapsed_sections": [
        "bNENm7RHGFMd",
        "bZGjMokMvk2h",
        "UYZUBEMCvlpB",
        "RchPc7G6vmRB",
        "LYE6Cjhgvm3B"
      ],
      "toc_visible": true,
      "include_colab_link": true
    },
    "kernelspec": {
      "name": "python3",
      "display_name": "Python 3"
    },
    "widgets": {
      "application/vnd.jupyter.widget-state+json": {
        "846abcc7f6514d37b1aefa50e63a4653": {
          "model_module": "@jupyter-widgets/controls",
          "model_name": "HBoxModel",
          "state": {
            "_view_name": "HBoxView",
            "_dom_classes": [],
            "_model_name": "HBoxModel",
            "_view_module": "@jupyter-widgets/controls",
            "_model_module_version": "1.5.0",
            "_view_count": null,
            "_view_module_version": "1.5.0",
            "box_style": "",
            "layout": "IPY_MODEL_3d9d01b875d74954acd6cf766af82df8",
            "_model_module": "@jupyter-widgets/controls",
            "children": [
              "IPY_MODEL_0a8d5ec2315b461eb6a2acd9b9f669fd",
              "IPY_MODEL_fec53bc777ad4aacbf52427864682b50"
            ]
          }
        },
        "3d9d01b875d74954acd6cf766af82df8": {
          "model_module": "@jupyter-widgets/base",
          "model_name": "LayoutModel",
          "state": {
            "_view_name": "LayoutView",
            "grid_template_rows": null,
            "right": null,
            "justify_content": null,
            "_view_module": "@jupyter-widgets/base",
            "overflow": null,
            "_model_module_version": "1.2.0",
            "_view_count": null,
            "flex_flow": null,
            "width": null,
            "min_width": null,
            "border": null,
            "align_items": null,
            "bottom": null,
            "_model_module": "@jupyter-widgets/base",
            "top": null,
            "grid_column": null,
            "overflow_y": null,
            "overflow_x": null,
            "grid_auto_flow": null,
            "grid_area": null,
            "grid_template_columns": null,
            "flex": null,
            "_model_name": "LayoutModel",
            "justify_items": null,
            "grid_row": null,
            "max_height": null,
            "align_content": null,
            "visibility": null,
            "align_self": null,
            "height": null,
            "min_height": null,
            "padding": null,
            "grid_auto_rows": null,
            "grid_gap": null,
            "max_width": null,
            "order": null,
            "_view_module_version": "1.2.0",
            "grid_template_areas": null,
            "object_position": null,
            "object_fit": null,
            "grid_auto_columns": null,
            "margin": null,
            "display": null,
            "left": null
          }
        },
        "0a8d5ec2315b461eb6a2acd9b9f669fd": {
          "model_module": "@jupyter-widgets/controls",
          "model_name": "FloatProgressModel",
          "state": {
            "_view_name": "ProgressView",
            "style": "IPY_MODEL_2ba82a87b1944920b229ba4d715c040d",
            "_dom_classes": [],
            "description": "100%",
            "_model_name": "FloatProgressModel",
            "bar_style": "success",
            "max": 72,
            "_view_module": "@jupyter-widgets/controls",
            "_model_module_version": "1.5.0",
            "value": 72,
            "_view_count": null,
            "_view_module_version": "1.5.0",
            "orientation": "horizontal",
            "min": 0,
            "description_tooltip": null,
            "_model_module": "@jupyter-widgets/controls",
            "layout": "IPY_MODEL_be1e7341e00d425bb95db740af01da6e"
          }
        },
        "fec53bc777ad4aacbf52427864682b50": {
          "model_module": "@jupyter-widgets/controls",
          "model_name": "HTMLModel",
          "state": {
            "_view_name": "HTMLView",
            "style": "IPY_MODEL_b30e750473ca4c82aab7f5c2f67d9174",
            "_dom_classes": [],
            "description": "",
            "_model_name": "HTMLModel",
            "placeholder": "​",
            "_view_module": "@jupyter-widgets/controls",
            "_model_module_version": "1.5.0",
            "value": " 72/72 [47:54&lt;00:00, 39.92s/it]",
            "_view_count": null,
            "_view_module_version": "1.5.0",
            "description_tooltip": null,
            "_model_module": "@jupyter-widgets/controls",
            "layout": "IPY_MODEL_77f9e0d3224d455391f88aa97c29070c"
          }
        },
        "2ba82a87b1944920b229ba4d715c040d": {
          "model_module": "@jupyter-widgets/controls",
          "model_name": "ProgressStyleModel",
          "state": {
            "_view_name": "StyleView",
            "_model_name": "ProgressStyleModel",
            "description_width": "initial",
            "_view_module": "@jupyter-widgets/base",
            "_model_module_version": "1.5.0",
            "_view_count": null,
            "_view_module_version": "1.2.0",
            "bar_color": null,
            "_model_module": "@jupyter-widgets/controls"
          }
        },
        "be1e7341e00d425bb95db740af01da6e": {
          "model_module": "@jupyter-widgets/base",
          "model_name": "LayoutModel",
          "state": {
            "_view_name": "LayoutView",
            "grid_template_rows": null,
            "right": null,
            "justify_content": null,
            "_view_module": "@jupyter-widgets/base",
            "overflow": null,
            "_model_module_version": "1.2.0",
            "_view_count": null,
            "flex_flow": null,
            "width": null,
            "min_width": null,
            "border": null,
            "align_items": null,
            "bottom": null,
            "_model_module": "@jupyter-widgets/base",
            "top": null,
            "grid_column": null,
            "overflow_y": null,
            "overflow_x": null,
            "grid_auto_flow": null,
            "grid_area": null,
            "grid_template_columns": null,
            "flex": null,
            "_model_name": "LayoutModel",
            "justify_items": null,
            "grid_row": null,
            "max_height": null,
            "align_content": null,
            "visibility": null,
            "align_self": null,
            "height": null,
            "min_height": null,
            "padding": null,
            "grid_auto_rows": null,
            "grid_gap": null,
            "max_width": null,
            "order": null,
            "_view_module_version": "1.2.0",
            "grid_template_areas": null,
            "object_position": null,
            "object_fit": null,
            "grid_auto_columns": null,
            "margin": null,
            "display": null,
            "left": null
          }
        },
        "b30e750473ca4c82aab7f5c2f67d9174": {
          "model_module": "@jupyter-widgets/controls",
          "model_name": "DescriptionStyleModel",
          "state": {
            "_view_name": "StyleView",
            "_model_name": "DescriptionStyleModel",
            "description_width": "",
            "_view_module": "@jupyter-widgets/base",
            "_model_module_version": "1.5.0",
            "_view_count": null,
            "_view_module_version": "1.2.0",
            "_model_module": "@jupyter-widgets/controls"
          }
        },
        "77f9e0d3224d455391f88aa97c29070c": {
          "model_module": "@jupyter-widgets/base",
          "model_name": "LayoutModel",
          "state": {
            "_view_name": "LayoutView",
            "grid_template_rows": null,
            "right": null,
            "justify_content": null,
            "_view_module": "@jupyter-widgets/base",
            "overflow": null,
            "_model_module_version": "1.2.0",
            "_view_count": null,
            "flex_flow": null,
            "width": null,
            "min_width": null,
            "border": null,
            "align_items": null,
            "bottom": null,
            "_model_module": "@jupyter-widgets/base",
            "top": null,
            "grid_column": null,
            "overflow_y": null,
            "overflow_x": null,
            "grid_auto_flow": null,
            "grid_area": null,
            "grid_template_columns": null,
            "flex": null,
            "_model_name": "LayoutModel",
            "justify_items": null,
            "grid_row": null,
            "max_height": null,
            "align_content": null,
            "visibility": null,
            "align_self": null,
            "height": null,
            "min_height": null,
            "padding": null,
            "grid_auto_rows": null,
            "grid_gap": null,
            "max_width": null,
            "order": null,
            "_view_module_version": "1.2.0",
            "grid_template_areas": null,
            "object_position": null,
            "object_fit": null,
            "grid_auto_columns": null,
            "margin": null,
            "display": null,
            "left": null
          }
        }
      }
    },
    "accelerator": "GPU"
  },
  "cells": [
    {
      "cell_type": "markdown",
      "metadata": {
        "id": "view-in-github",
        "colab_type": "text"
      },
      "source": [
        "<a href=\"https://colab.research.google.com/github/DanieleFoscarin/NNDL_hw1/blob/main/NNDL_hw1_Regression.ipynb\" target=\"_parent\"><img src=\"https://colab.research.google.com/assets/colab-badge.svg\" alt=\"Open In Colab\"/></a>"
      ]
    },
    {
      "cell_type": "code",
      "metadata": {
        "colab": {
          "base_uri": "https://localhost:8080/"
        },
        "id": "3pXqh-KCx-1O",
        "outputId": "99f9a09c-d6e8-4a49-ab0c-2011f04db5a7"
      },
      "source": [
        "from google.colab import drive\n",
        "drive.mount('/content/drive')"
      ],
      "execution_count": 1,
      "outputs": [
        {
          "output_type": "stream",
          "text": [
            "Mounted at /content/drive\n"
          ],
          "name": "stdout"
        }
      ]
    },
    {
      "cell_type": "markdown",
      "metadata": {
        "id": "rZCClsi8vrYi"
      },
      "source": [
        "# Regression task"
      ]
    },
    {
      "cell_type": "markdown",
      "metadata": {
        "id": "pHeLKNYayXKO"
      },
      "source": [
        "## Guidelines"
      ]
    },
    {
      "cell_type": "markdown",
      "metadata": {
        "id": "zs0AM6W_yoMs"
      },
      "source": [
        "* The goal is to train a neural network to approximate an unknown function:\n",
        "$$ \n",
        "f:\\mathbb{R}→\\mathbb{R} \\\\\n",
        "x↦y=f(x) \\\\\n",
        "\\text{network}(x) \\approx f(x)\n",
        "$$\n",
        "* As training point, you only have noisy measures from the target function.\n",
        "$$\n",
        "\\hat{y} = f(x) + noise\n",
        "$$\n",
        "* Consider to create a validation set from you training data, or use a k-fold cross-validation strategy. You may find useful these functions from the `scikit-learn` library:\n",
        "    - [train_test_split](https://scikit-learn.org/stable/modules/generated/sklearn.model_selection.train_test_split.html)\n",
        "    - [KFold](https://scikit-learn.org/stable/modules/generated/sklearn.model_selection.KFold.html#sklearn.model_selection.KFold) "
      ]
    },
    {
      "cell_type": "markdown",
      "metadata": {
        "id": "JpHoPt5nyocz"
      },
      "source": [
        "# Setup and Dataset"
      ]
    },
    {
      "cell_type": "markdown",
      "metadata": {
        "id": "oMzjivo30UhY"
      },
      "source": [
        "## Import libraries and data\n"
      ]
    },
    {
      "cell_type": "code",
      "metadata": {
        "id": "3ViQh-gfzxNH",
        "colab": {
          "base_uri": "https://localhost:8080/"
        },
        "outputId": "41eda65f-68a9-4044-d126-5dc43b7ed8b8"
      },
      "source": [
        "import numpy as np\n",
        "import pandas as pd\n",
        "import matplotlib.pyplot as plt\n",
        "\n",
        "from sklearn.model_selection import KFold\n",
        "\n",
        "from tqdm import tqdm, tqdm_notebook, notebook\n",
        "\n",
        "from itertools import product\n",
        "\n",
        "import torch\n",
        "import torch.nn as nn\n",
        "import torch.optim as optim\n",
        "from torch.utils.data import Dataset, DataLoader\n",
        "from torchvision import transforms\n",
        "\n",
        "device = torch.device(\"cuda\") if torch.cuda.is_available() else torch.device(\"cpu\")\n",
        "print(f\"Training device: {device}\")\n",
        "torch.manual_seed(0)"
      ],
      "execution_count": 2,
      "outputs": [
        {
          "output_type": "stream",
          "text": [
            "Training device: cuda\n"
          ],
          "name": "stdout"
        },
        {
          "output_type": "execute_result",
          "data": {
            "text/plain": [
              "<torch._C.Generator at 0x7f68544100d8>"
            ]
          },
          "metadata": {
            "tags": []
          },
          "execution_count": 2
        }
      ]
    },
    {
      "cell_type": "code",
      "metadata": {
        "id": "I5jgo748S6SE"
      },
      "source": [
        "import os\n",
        "os.environ['CUDA_LAUNCH_BLOCKING'] = '1'"
      ],
      "execution_count": 3,
      "outputs": []
    },
    {
      "cell_type": "code",
      "metadata": {
        "id": "hpj6Ws17bshY",
        "colab": {
          "base_uri": "https://localhost:8080/"
        },
        "outputId": "26a65f49-7b39-4351-be4e-9fcbaace3b11"
      },
      "source": [
        "! pip install torch-optimizer\n",
        "import torch_optimizer"
      ],
      "execution_count": 4,
      "outputs": [
        {
          "output_type": "stream",
          "text": [
            "Collecting torch-optimizer\n",
            "\u001b[?25l  Downloading https://files.pythonhosted.org/packages/af/0f/bc49a0f714a1896b80f31db9ba82eebcb2bad9e0f5757184574f8ecfe2f1/torch_optimizer-0.1.0-py3-none-any.whl (72kB)\n",
            "\r\u001b[K     |████▌                           | 10kB 25.9MB/s eta 0:00:01\r\u001b[K     |█████████                       | 20kB 30.8MB/s eta 0:00:01\r\u001b[K     |█████████████▌                  | 30kB 20.0MB/s eta 0:00:01\r\u001b[K     |██████████████████              | 40kB 16.5MB/s eta 0:00:01\r\u001b[K     |██████████████████████▋         | 51kB 15.0MB/s eta 0:00:01\r\u001b[K     |███████████████████████████     | 61kB 14.9MB/s eta 0:00:01\r\u001b[K     |███████████████████████████████▋| 71kB 9.0MB/s eta 0:00:01\r\u001b[K     |████████████████████████████████| 81kB 6.2MB/s \n",
            "\u001b[?25hRequirement already satisfied: torch>=1.1.0 in /usr/local/lib/python3.6/dist-packages (from torch-optimizer) (1.7.0+cu101)\n",
            "Collecting pytorch-ranger>=0.1.1\n",
            "  Downloading https://files.pythonhosted.org/packages/0d/70/12256257d861bbc3e176130d25be1de085ce7a9e60594064888a950f2154/pytorch_ranger-0.1.1-py3-none-any.whl\n",
            "Requirement already satisfied: future in /usr/local/lib/python3.6/dist-packages (from torch>=1.1.0->torch-optimizer) (0.16.0)\n",
            "Requirement already satisfied: numpy in /usr/local/lib/python3.6/dist-packages (from torch>=1.1.0->torch-optimizer) (1.19.4)\n",
            "Requirement already satisfied: dataclasses in /usr/local/lib/python3.6/dist-packages (from torch>=1.1.0->torch-optimizer) (0.8)\n",
            "Requirement already satisfied: typing-extensions in /usr/local/lib/python3.6/dist-packages (from torch>=1.1.0->torch-optimizer) (3.7.4.3)\n",
            "Installing collected packages: pytorch-ranger, torch-optimizer\n",
            "Successfully installed pytorch-ranger-0.1.1 torch-optimizer-0.1.0\n"
          ],
          "name": "stdout"
        }
      ]
    },
    {
      "cell_type": "markdown",
      "metadata": {
        "id": "OjV_JeRcwrLC"
      },
      "source": [
        "The following cell of code will download the dataset and make it available in the local folder `regression_dataset`. There are two files:\n",
        "\n",
        "* `regression_dataset/train_data.csv`\n",
        "* `regression_dataset/test_data.csv`\n",
        "\n",
        "Use them to train and test your model. Each row contains two values, respactively the input and the target (label)."
      ]
    },
    {
      "cell_type": "code",
      "metadata": {
        "id": "QXCqDgEsvt96",
        "colab": {
          "base_uri": "https://localhost:8080/"
        },
        "outputId": "344079b7-6245-4c25-e3b0-7c6f9c253c2c"
      },
      "source": [
        "!wget -P regression_dataset https://gitlab.dei.unipd.it/gadaleta/nnld-2020-21-lab-resources/-/raw/master/homework_1_regression_dataset/train_data.csv\n",
        "!wget -P regression_dataset https://gitlab.dei.unipd.it/gadaleta/nnld-2020-21-lab-resources/-/raw/master/homework_1_regression_dataset/test_data.csv "
      ],
      "execution_count": 5,
      "outputs": [
        {
          "output_type": "stream",
          "text": [
            "--2021-01-09 16:15:26--  https://gitlab.dei.unipd.it/gadaleta/nnld-2020-21-lab-resources/-/raw/master/homework_1_regression_dataset/train_data.csv\n",
            "Resolving gitlab.dei.unipd.it (gitlab.dei.unipd.it)... 147.162.2.85\n",
            "Connecting to gitlab.dei.unipd.it (gitlab.dei.unipd.it)|147.162.2.85|:443... connected.\n",
            "HTTP request sent, awaiting response... 200 OK\n",
            "Length: 3776 (3.7K) [text/plain]\n",
            "Saving to: ‘regression_dataset/train_data.csv’\n",
            "\n",
            "train_data.csv      100%[===================>]   3.69K  --.-KB/s    in 0s      \n",
            "\n",
            "2021-01-09 16:15:26 (110 MB/s) - ‘regression_dataset/train_data.csv’ saved [3776/3776]\n",
            "\n",
            "--2021-01-09 16:15:26--  https://gitlab.dei.unipd.it/gadaleta/nnld-2020-21-lab-resources/-/raw/master/homework_1_regression_dataset/test_data.csv\n",
            "Resolving gitlab.dei.unipd.it (gitlab.dei.unipd.it)... 147.162.2.85\n",
            "Connecting to gitlab.dei.unipd.it (gitlab.dei.unipd.it)|147.162.2.85|:443... connected.\n",
            "HTTP request sent, awaiting response... 200 OK\n",
            "Length: 3788 (3.7K) [text/plain]\n",
            "Saving to: ‘regression_dataset/test_data.csv’\n",
            "\n",
            "test_data.csv       100%[===================>]   3.70K  --.-KB/s    in 0s      \n",
            "\n",
            "2021-01-09 16:15:26 (114 MB/s) - ‘regression_dataset/test_data.csv’ saved [3788/3788]\n",
            "\n"
          ],
          "name": "stdout"
        }
      ]
    },
    {
      "cell_type": "markdown",
      "metadata": {
        "id": "HB9BSxgocgiW"
      },
      "source": [
        "## Examples on the dataset"
      ]
    },
    {
      "cell_type": "markdown",
      "metadata": {
        "id": "FJRxVBksxsBw"
      },
      "source": [
        "How to load the data:"
      ]
    },
    {
      "cell_type": "code",
      "metadata": {
        "id": "a-FdEP-JxwEu"
      },
      "source": [
        "train_df = pd.read_csv('regression_dataset/train_data.csv')\n",
        "test_df = pd.read_csv('regression_dataset/test_data.csv')"
      ],
      "execution_count": 6,
      "outputs": []
    },
    {
      "cell_type": "markdown",
      "metadata": {
        "id": "UgH9AOL8yAak"
      },
      "source": [
        "How to get a specific sample:"
      ]
    },
    {
      "cell_type": "code",
      "metadata": {
        "id": "Gz8mOEUcyJdw",
        "colab": {
          "base_uri": "https://localhost:8080/"
        },
        "outputId": "a6b5a21d-a9d4-4f0f-8b12-0a0c3c341921"
      },
      "source": [
        "sample_index = 0\n",
        "input = train_df.iloc[sample_index]['input']\n",
        "label = train_df.iloc[sample_index]['label']\n",
        "\n",
        "print(f\"SAMPLE AT INDEX {sample_index}\")\n",
        "print(f\"INPUT: {input}\")\n",
        "print(f\"LABEL: {label}\")"
      ],
      "execution_count": 7,
      "outputs": [
        {
          "output_type": "stream",
          "text": [
            "SAMPLE AT INDEX 0\n",
            "INPUT: -4.787870188090535\n",
            "LABEL: -1.216803599957529\n"
          ],
          "name": "stdout"
        }
      ]
    },
    {
      "cell_type": "markdown",
      "metadata": {
        "id": "o4FMs2rmzXps"
      },
      "source": [
        "All training points:"
      ]
    },
    {
      "cell_type": "code",
      "metadata": {
        "id": "EXc_6w24zFEB",
        "colab": {
          "base_uri": "https://localhost:8080/",
          "height": 388
        },
        "outputId": "20695117-1390-4033-bf57-b34de8588566"
      },
      "source": [
        "fig = plt.figure(figsize=(8,6))\n",
        "plt.scatter(train_df.input, train_df.label, label='Training points')\n",
        "plt.xlabel('input')\n",
        "plt.ylabel('label')\n",
        "plt.legend()\n",
        "plt.show()"
      ],
      "execution_count": null,
      "outputs": [
        {
          "output_type": "display_data",
          "data": {
            "image/png": "[encoded data removed]",
            "text/plain": [
              "<Figure size 576x432 with 1 Axes>"
            ]
          },
          "metadata": {
            "tags": [],
            "needs_background": "light"
          }
        }
      ]
    },
    {
      "cell_type": "markdown",
      "metadata": {
        "id": "xLLpVUYx0o1c"
      },
      "source": [
        "# Classes definition"
      ]
    },
    {
      "cell_type": "markdown",
      "metadata": {
        "id": "JmiTcBkWcxtX"
      },
      "source": [
        "## Dataset classes"
      ]
    },
    {
      "cell_type": "code",
      "metadata": {
        "id": "S6ztVuL_0oKo"
      },
      "source": [
        "class DFDataset(Dataset):\n",
        "\n",
        "  def __init__(self, data, transform=None):\n",
        "    \"\"\"\n",
        "    Args:\n",
        "        df (pandas dataframe): x and y on 0 and 1 columns.\n",
        "        transform (callable, optional): Optional transform to be applied\n",
        "            on a sample.\n",
        "    \"\"\"\n",
        "    self.transform = transform\n",
        "    self.data = data\n",
        "\n",
        "  def __len__(self):\n",
        "    return len(self.data)\n",
        "\n",
        "  def __getitem__(self, idx):\n",
        "    #return a nparray from the dataframe\n",
        "    sample = self.data.iloc[idx,:].to_numpy()\n",
        "    if self.transform:\n",
        "        sample = self.transform(sample)\n",
        "    return sample\n",
        "\n",
        "\n",
        "class ToTensor(object):\n",
        "    \"\"\"Convert sample to Tensors.\"\"\"\n",
        "\n",
        "    def __call__(self, sample):\n",
        "        x, y = sample\n",
        "        return (torch.tensor([x]).float(),\n",
        "                torch.tensor([y]).float())\n",
        "        \n",
        "composed_transform = transforms.Compose([ToTensor()])"
      ],
      "execution_count": 8,
      "outputs": []
    },
    {
      "cell_type": "markdown",
      "metadata": {
        "id": "3UsJi5v2MJEj"
      },
      "source": [
        "## NN model for the regression task:"
      ]
    },
    {
      "cell_type": "code",
      "metadata": {
        "id": "GTD8aHioL7Qf"
      },
      "source": [
        "class RegNet(nn.Module):\n",
        "    \n",
        "    def __init__(self, net_params):\n",
        "\n",
        "        super().__init__()\n",
        "        # self.net_params = net_params\n",
        "        Ni, Nh1, Nh2, Nh3, No = net_params[0], net_params[1], net_params[2], net_params[3], net_params[4]\n",
        "        # Nh1, Nh2, Nh3= net_params[1], net_params[2], net_params[3]\n",
        "        # Ni, No = 1, 1\n",
        "\n",
        "        self.fc1 = nn.Linear(in_features=Ni, out_features=Nh1)\n",
        "        self.fc2 = nn.Linear(in_features=Nh1, out_features=Nh2)\n",
        "        self.fc3 = nn.Linear(in_features=Nh2, out_features=Nh3)\n",
        "        self.out = nn.Linear(in_features=Nh3, out_features=No)\n",
        "        self.act = nn.Sigmoid()\n",
        "        \n",
        "    def forward(self, x, additional_out=False):\n",
        "        x = self.act(self.fc1(x))\n",
        "        x = self.act(self.fc2(x))\n",
        "        x = self.act(self.fc3(x))\n",
        "        x = self.out(x)\n",
        "        return x"
      ],
      "execution_count": 9,
      "outputs": []
    },
    {
      "cell_type": "markdown",
      "metadata": {
        "id": "6T1ZqFf141iX"
      },
      "source": [
        "## Training loop function:\n",
        "\n"
      ]
    },
    {
      "cell_type": "code",
      "metadata": {
        "id": "ujD0HVjr44YK"
      },
      "source": [
        "\n",
        "def training_loop(net, optimizer, loss_fn, \n",
        "                  train_dataloader, val_dataloader, n_epochs, verbose=False):\n",
        "    train_loss_log = []\n",
        "    val_loss_log = []\n",
        "    for epoch_num in range(n_epochs):\n",
        "        if verbose:\n",
        "            print(f'EPOCH {epoch_num}')\n",
        "\n",
        "        #training step\n",
        "        train_loss = []\n",
        "        net.train()\n",
        "        for sample_batched in train_dataloader:\n",
        "            x_batch = sample_batched[0].to(device)\n",
        "            label_batch = sample_batched[1].to(device)\n",
        "\n",
        "            #forward\n",
        "            out = net(x_batch)\n",
        "            #compute loss\n",
        "            loss = loss_fn(out, label_batch)\n",
        "\n",
        "            #backpropagation\n",
        "            net.zero_grad()\n",
        "            loss.backward()\n",
        "\n",
        "            #update weights\n",
        "            optimizer.step()\n",
        "\n",
        "            #save train loss\n",
        "            loss_batch = loss.detach().cpu().numpy()\n",
        "            train_loss.append(loss_batch)\n",
        "\n",
        "        #save average train loss\n",
        "        train_loss = np.mean(train_loss)\n",
        "        if verbose:\n",
        "            print(f\"AVERAGE TRAIN LOSS: {train_loss}\")\n",
        "        train_loss_log.append(train_loss)    \n",
        "\n",
        "        #validation\n",
        "        val_loss= []\n",
        "        net.eval() # Evaluation mode (e.g. disable dropout)\n",
        "        with torch.no_grad(): # Disable gradient tracking\n",
        "            for sample_batched in val_dataloader:\n",
        "                # Move data to device\n",
        "                x_batch = sample_batched[0].to(device)\n",
        "                label_batch = sample_batched[1].to(device)\n",
        "\n",
        "                # Forward pass\n",
        "                out = net(x_batch)\n",
        "\n",
        "                # Compute loss\n",
        "                loss = loss_fn(out, label_batch)\n",
        "\n",
        "                # Save val loss for this batch\n",
        "                loss_batch = loss.detach().cpu().numpy()\n",
        "                val_loss.append(loss_batch)\n",
        "\n",
        "            # Save average validation loss\n",
        "            val_loss = np.mean(val_loss)\n",
        "            if verbose:\n",
        "                print(f\"AVERAGE VAL LOSS: {np.mean(val_loss)}\")\n",
        "            val_loss_log.append(val_loss)    \n",
        "    return train_loss_log, val_loss_log"
      ],
      "execution_count": 10,
      "outputs": []
    },
    {
      "cell_type": "markdown",
      "metadata": {
        "id": "dtwBW7mJMQKb"
      },
      "source": [
        "## K-Fold training function:"
      ]
    },
    {
      "cell_type": "code",
      "metadata": {
        "id": "zYySTnfs4cIn"
      },
      "source": [
        "\n",
        "def kfold_train(train_df, n_folds, params):\n",
        "\n",
        "    batch_size = params['batch_size']\n",
        "    n_epochs = params['n_epochs']\n",
        "    opt_type = params['opt_type']\n",
        "\n",
        "    model_record = []\n",
        "    #instantiate k-fold splitter\n",
        "    myKF = KFold(n_splits=n_folds, shuffle=True, random_state=42)\n",
        "    split = myKF.split(train_df)\n",
        "\n",
        "    # val_folds = []\n",
        "    ### NB it only works with 5 folds:(\n",
        "    \n",
        "    # train_log_df = pd.DataFrame(columns=['0','1','2','3','4'])\n",
        "    # val_log_df = pd.DataFrame(columns=['0','1','2','3','4'])\n",
        "    col_list = [str(x) for x in range(n_folds)]\n",
        "    train_log_df = pd.DataFrame(columns=col_list)\n",
        "    val_log_df = pd.DataFrame(columns=col_list)\n",
        "\n",
        "    count_fold = 0\n",
        "    for train_idx, val_idx in myKF.split(train_df):\n",
        "        # print(f\"Now processing fold {count_fold}\\n\")\n",
        "        \n",
        "        #split the dataframes\n",
        "        train_fold = train_df.iloc[train_idx, :]\n",
        "        val_fold = train_df.iloc[val_idx, :] \n",
        "\n",
        "        #create DFDataset object\n",
        "        train_dataset = DFDataset(train_fold, transform=composed_transform)\n",
        "        val_dataset = DFDataset(val_fold, transform=composed_transform)\n",
        "\n",
        "        #create DataLoader object\n",
        "        train_dataloader = DataLoader(train_dataset, batch_size=int(batch_size), shuffle=True, num_workers=0)\n",
        "        # train_dataloader = DataLoader(train_dataset, batch_size=4, shuffle=True, num_workers=0)\n",
        "        val_dataloader  = DataLoader(val_dataset,  batch_size=len(val_dataset), shuffle=False, num_workers=0)\n",
        "\n",
        "        # Initialize model\n",
        "        net_params = [1] + params['net_params'] + [1]\n",
        "        # print(net_params)\n",
        "        net = RegNet(net_params)\n",
        "        net.to(device)\n",
        "\n",
        "        # Define the loss function\n",
        "        loss_fn = nn.MSELoss()\n",
        "\n",
        "        # Define the optimizer\n",
        "        if opt_type == 0:\n",
        "            optimizer = optim.Adam(net.parameters())\n",
        "        elif opt_type == 1:\n",
        "            optimizer = torch_optimizer.DiffGrad(net.parameters())\n",
        "        elif opt_type == 2:\n",
        "            optimizer = torch_optimizer.RAdam(net.parameters())\n",
        "\n",
        "        #TRAINING LOOP\n",
        "        train_loss_log, val_loss_log = training_loop(net, \n",
        "                                                     optimizer,\n",
        "                                                     loss_fn,\n",
        "                                                     train_dataloader, \n",
        "                                                     val_dataloader, \n",
        "                                                     n_epochs)\n",
        "\n",
        "        # net.cpu()\n",
        "        # del net\n",
        "        model_record.append(net)\n",
        "\n",
        "        train_log_df[str(count_fold)] = train_loss_log\n",
        "        val_log_df[str(count_fold)] = val_loss_log\n",
        "\n",
        "        count_fold += 1\n",
        "\n",
        "\n",
        "    # avg_val_folds = sum(val_folds) / len(val_folds)\n",
        "\n",
        "    #consider the mean in the last n_epochs//10 epochs\n",
        "    # best_fold = val_log_df.iloc[-1,:].argmin()\n",
        "    val_mean_result = np.zeros([n_folds,])\n",
        "    for i in range(n_folds):\n",
        "        val_mean_result[i] = val_log_df.iloc[-1*int(np.ceil(n_epochs/10)),i].mean()\n",
        "    \n",
        "    best_fold = np.argmin(val_mean_result)\n",
        "\n",
        "    # best_fold = val_log_df.iloc[-(n_epochs//10),:].mean().argmin()\n",
        "    \n",
        "    best_net = model_record[best_fold]\n",
        "\n",
        "    return train_log_df, val_log_df, best_net, best_fold\n",
        "# return train_loss_log, val_loss_log"
      ],
      "execution_count": 11,
      "outputs": []
    },
    {
      "cell_type": "markdown",
      "metadata": {
        "id": "CvX6tLvec7YF"
      },
      "source": [
        "Test the classes here for debugging"
      ]
    },
    {
      "cell_type": "code",
      "metadata": {
        "id": "wdbp1RxIN3GR",
        "colab": {
          "base_uri": "https://localhost:8080/",
          "height": 194
        },
        "outputId": "019fc57c-b347-46ed-c629-57d84faca72c"
      },
      "source": [
        "#test\n",
        "params = {'n_epochs': 5,'batch_size': 8, 'opt_type': 2, 'net_params': [128,256,128]}\n",
        "train_log_df, val_log_df, _, best_fold = kfold_train(train_df=train_df, n_folds=5, params=params)\n",
        "\n",
        "val_log_df\n"
      ],
      "execution_count": null,
      "outputs": [
        {
          "output_type": "execute_result",
          "data": {
            "text/html": [
              "<div>\n",
              "<style scoped>\n",
              "    .dataframe tbody tr th:only-of-type {\n",
              "        vertical-align: middle;\n",
              "    }\n",
              "\n",
              "    .dataframe tbody tr th {\n",
              "        vertical-align: top;\n",
              "    }\n",
              "\n",
              "    .dataframe thead th {\n",
              "        text-align: right;\n",
              "    }\n",
              "</style>\n",
              "<table border=\"1\" class=\"dataframe\">\n",
              "  <thead>\n",
              "    <tr style=\"text-align: right;\">\n",
              "      <th></th>\n",
              "      <th>0</th>\n",
              "      <th>1</th>\n",
              "      <th>2</th>\n",
              "      <th>3</th>\n",
              "      <th>4</th>\n",
              "    </tr>\n",
              "  </thead>\n",
              "  <tbody>\n",
              "    <tr>\n",
              "      <th>0</th>\n",
              "      <td>7.448450</td>\n",
              "      <td>5.805412</td>\n",
              "      <td>7.305542</td>\n",
              "      <td>6.249238</td>\n",
              "      <td>8.722581</td>\n",
              "    </tr>\n",
              "    <tr>\n",
              "      <th>1</th>\n",
              "      <td>6.833792</td>\n",
              "      <td>5.514490</td>\n",
              "      <td>6.757502</td>\n",
              "      <td>5.731100</td>\n",
              "      <td>8.003390</td>\n",
              "    </tr>\n",
              "    <tr>\n",
              "      <th>2</th>\n",
              "      <td>6.060260</td>\n",
              "      <td>5.198063</td>\n",
              "      <td>6.076675</td>\n",
              "      <td>5.057004</td>\n",
              "      <td>7.088736</td>\n",
              "    </tr>\n",
              "    <tr>\n",
              "      <th>3</th>\n",
              "      <td>5.314198</td>\n",
              "      <td>4.969099</td>\n",
              "      <td>5.369400</td>\n",
              "      <td>4.428407</td>\n",
              "      <td>6.174942</td>\n",
              "    </tr>\n",
              "    <tr>\n",
              "      <th>4</th>\n",
              "      <td>4.630305</td>\n",
              "      <td>4.882167</td>\n",
              "      <td>4.697014</td>\n",
              "      <td>3.834244</td>\n",
              "      <td>5.323237</td>\n",
              "    </tr>\n",
              "  </tbody>\n",
              "</table>\n",
              "</div>"
            ],
            "text/plain": [
              "          0         1         2         3         4\n",
              "0  7.448450  5.805412  7.305542  6.249238  8.722581\n",
              "1  6.833792  5.514490  6.757502  5.731100  8.003390\n",
              "2  6.060260  5.198063  6.076675  5.057004  7.088736\n",
              "3  5.314198  4.969099  5.369400  4.428407  6.174942\n",
              "4  4.630305  4.882167  4.697014  3.834244  5.323237"
            ]
          },
          "metadata": {
            "tags": []
          },
          "execution_count": 25
        }
      ]
    },
    {
      "cell_type": "code",
      "metadata": {
        "colab": {
          "base_uri": "https://localhost:8080/"
        },
        "id": "kzYt97UKRsQN",
        "outputId": "fbbb13ca-791e-4560-b3a1-13e8013038ae"
      },
      "source": [
        "print(best_fold)"
      ],
      "execution_count": null,
      "outputs": [
        {
          "output_type": "stream",
          "text": [
            "3\n"
          ],
          "name": "stdout"
        }
      ]
    },
    {
      "cell_type": "markdown",
      "metadata": {
        "id": "6XjJKA6UMaet"
      },
      "source": [
        "# Grid search Training:"
      ]
    },
    {
      "cell_type": "markdown",
      "metadata": {
        "id": "L8l49KtJKu2K"
      },
      "source": [
        "try optimizers from https://pythonawesome.com/a-collection-of-optimizers-for-pytorch/\n",
        "Adam, DiffGrad, RAdam"
      ]
    },
    {
      "cell_type": "code",
      "metadata": {
        "id": "Q2gCdC4ThAVR"
      },
      "source": [
        "csv_name = \"grid_result_100ep_avg02.csv\"\n",
        "path_out = \"/content/drive/My Drive/NNDL_hw1_models/\""
      ],
      "execution_count": null,
      "outputs": []
    },
    {
      "cell_type": "code",
      "metadata": {
        "id": "EYdx1VKK4kHZ",
        "colab": {
          "base_uri": "https://localhost:8080/",
          "height": 67,
          "referenced_widgets": [
            "846abcc7f6514d37b1aefa50e63a4653",
            "3d9d01b875d74954acd6cf766af82df8",
            "0a8d5ec2315b461eb6a2acd9b9f669fd",
            "fec53bc777ad4aacbf52427864682b50",
            "2ba82a87b1944920b229ba4d715c040d",
            "be1e7341e00d425bb95db740af01da6e",
            "b30e750473ca4c82aab7f5c2f67d9174",
            "77f9e0d3224d455391f88aa97c29070c"
          ]
        },
        "outputId": "e013dfd3-128b-402d-8fb4-1db4a48fa6d7"
      },
      "source": [
        "\n",
        "\n",
        "batch_gs = np.array([4,8,16])\n",
        "opt_gs = np.array([0,1,2])\n",
        "Nh1_gs = np.array([512,1024])\n",
        "Nh2_gs = np.array([512,1024])\n",
        "Nh3_gs = np.array([512,1024])\n",
        "\n",
        "n_folds = 5\n",
        "n_epochs = 100\n",
        "\n",
        "\n",
        "grid = product(batch_gs, opt_gs, Nh1_gs, Nh2_gs, Nh3_gs)\n",
        "grid_df = pd.DataFrame(list(grid))\n",
        "val_kfold_avg = []\n",
        "#big grid search loop\n",
        "for i in notebook.tqdm(range(len(grid_df))):\n",
        "    params= {'n_epochs': n_epochs, 'batch_size': grid_df.iloc[i,0], 'opt_type': grid_df.iloc[i,1], 'net_params': list(grid_df.iloc[i,2:5]) }\n",
        "    # print(params)\n",
        "    train_log_df, val_log_df, _, _ = kfold_train(train_df=train_df, n_folds=n_folds, params=params)\n",
        "    \n",
        "    val_mean_result = np.zeros([n_folds,])\n",
        "    for i in range(n_folds):\n",
        "        val_mean_result[i] = val_log_df.iloc[-1*int(np.ceil(n_epochs/10)),i].mean()\n",
        "    val_avg = np.mean(val_mean_result)\n",
        "    val_kfold_avg.append(val_avg)\n",
        "\n",
        "    # val_kfold_avg.append(np.mean(val_log_df.iloc[-1,:].to_numpy()))\n",
        "    # print(val_kfold_avg)\n",
        "    # print(val_log_df)\n",
        "    if i%5==0:\n",
        "        grid_result = grid_df.iloc[:len(val_kfold_avg),:]\n",
        "        grid_result['val_kfold_avg'] = val_kfold_avg\n",
        "        grid_result.to_csv(path_out+csv_name)\n",
        "\n",
        "grid_result = grid_df.copy()\n",
        "grid_result['val_kfold_avg'] = val_kfold_avg\n",
        "\n",
        "\n",
        "\n",
        "\n",
        "\n",
        "grid_result.to_csv(path_out+csv_name)"
      ],
      "execution_count": null,
      "outputs": [
        {
          "output_type": "display_data",
          "data": {
            "application/vnd.jupyter.widget-view+json": {
              "model_id": "846abcc7f6514d37b1aefa50e63a4653",
              "version_minor": 0,
              "version_major": 2
            },
            "text/plain": [
              "HBox(children=(FloatProgress(value=0.0, max=72.0), HTML(value='')))"
            ]
          },
          "metadata": {
            "tags": []
          }
        },
        {
          "output_type": "stream",
          "text": [
            "\n"
          ],
          "name": "stdout"
        }
      ]
    },
    {
      "cell_type": "markdown",
      "metadata": {
        "id": "IoXnK-RpBOWy"
      },
      "source": [
        "## Analysis of the grid search results\n",
        "\n"
      ]
    },
    {
      "cell_type": "code",
      "metadata": {
        "id": "yDnCB9eX4nPU"
      },
      "source": [
        "grid_result = pd.read_csv(path_out+csv_name, usecols=[str(x) for x in range(5)]+[ 'val_kfold_avg'])\n",
        "# with pd.option_context('display.max_rows', None, 'display.max_columns', None): \n",
        "#     print(grid_result)"
      ],
      "execution_count": null,
      "outputs": []
    },
    {
      "cell_type": "code",
      "metadata": {
        "id": "EYCrxeL_f60a",
        "colab": {
          "base_uri": "https://localhost:8080/",
          "height": 404
        },
        "outputId": "6b7646e3-5c4b-4148-8ad8-258b60268a05"
      },
      "source": [
        "fig, ax = plt.subplots(figsize=(8,6))\n",
        "\n",
        "# ax.grid_result['val_kfold_avg'].plot()\n",
        "ax.plot(np.linspace(0,len(grid_result), len(grid_result)), grid_result['val_kfold_avg'])\n",
        "ax.set_title('Validation losses in the grid search')\n",
        "ax.set_xlabel('grid search param set')\n",
        "ax.set_ylabel('validation loss')\n",
        "fig.show()"
      ],
      "execution_count": null,
      "outputs": [
        {
          "output_type": "display_data",
          "data": {
            "image/png": "[encoded data removed]",
            "text/plain": [
              "<Figure size 576x432 with 1 Axes>"
            ]
          },
          "metadata": {
            "tags": [],
            "needs_background": "light"
          }
        }
      ]
    },
    {
      "cell_type": "code",
      "metadata": {
        "id": "CxexIC1xCApj",
        "colab": {
          "base_uri": "https://localhost:8080/",
          "height": 399
        },
        "outputId": "b53f39db-d44a-416f-9695-56f15074b0cf"
      },
      "source": [
        "#sort to have the better performance at first\n",
        "grid_result = grid_result.sort_values(by='val_kfold_avg', )\n",
        "grid_result"
      ],
      "execution_count": null,
      "outputs": [
        {
          "output_type": "execute_result",
          "data": {
            "text/html": [
              "<div>\n",
              "<style scoped>\n",
              "    .dataframe tbody tr th:only-of-type {\n",
              "        vertical-align: middle;\n",
              "    }\n",
              "\n",
              "    .dataframe tbody tr th {\n",
              "        vertical-align: top;\n",
              "    }\n",
              "\n",
              "    .dataframe thead th {\n",
              "        text-align: right;\n",
              "    }\n",
              "</style>\n",
              "<table border=\"1\" class=\"dataframe\">\n",
              "  <thead>\n",
              "    <tr style=\"text-align: right;\">\n",
              "      <th></th>\n",
              "      <th>0</th>\n",
              "      <th>1</th>\n",
              "      <th>2</th>\n",
              "      <th>3</th>\n",
              "      <th>4</th>\n",
              "      <th>val_kfold_avg</th>\n",
              "    </tr>\n",
              "  </thead>\n",
              "  <tbody>\n",
              "    <tr>\n",
              "      <th>7</th>\n",
              "      <td>4</td>\n",
              "      <td>0</td>\n",
              "      <td>1024</td>\n",
              "      <td>1024</td>\n",
              "      <td>1024</td>\n",
              "      <td>0.363525</td>\n",
              "    </tr>\n",
              "    <tr>\n",
              "      <th>20</th>\n",
              "      <td>4</td>\n",
              "      <td>2</td>\n",
              "      <td>1024</td>\n",
              "      <td>512</td>\n",
              "      <td>512</td>\n",
              "      <td>0.391689</td>\n",
              "    </tr>\n",
              "    <tr>\n",
              "      <th>54</th>\n",
              "      <td>16</td>\n",
              "      <td>0</td>\n",
              "      <td>1024</td>\n",
              "      <td>1024</td>\n",
              "      <td>512</td>\n",
              "      <td>0.400870</td>\n",
              "    </tr>\n",
              "    <tr>\n",
              "      <th>0</th>\n",
              "      <td>4</td>\n",
              "      <td>0</td>\n",
              "      <td>512</td>\n",
              "      <td>512</td>\n",
              "      <td>512</td>\n",
              "      <td>0.404587</td>\n",
              "    </tr>\n",
              "    <tr>\n",
              "      <th>12</th>\n",
              "      <td>4</td>\n",
              "      <td>1</td>\n",
              "      <td>1024</td>\n",
              "      <td>512</td>\n",
              "      <td>512</td>\n",
              "      <td>0.406756</td>\n",
              "    </tr>\n",
              "    <tr>\n",
              "      <th>...</th>\n",
              "      <td>...</td>\n",
              "      <td>...</td>\n",
              "      <td>...</td>\n",
              "      <td>...</td>\n",
              "      <td>...</td>\n",
              "      <td>...</td>\n",
              "    </tr>\n",
              "    <tr>\n",
              "      <th>56</th>\n",
              "      <td>16</td>\n",
              "      <td>1</td>\n",
              "      <td>512</td>\n",
              "      <td>512</td>\n",
              "      <td>512</td>\n",
              "      <td>1.762333</td>\n",
              "    </tr>\n",
              "    <tr>\n",
              "      <th>64</th>\n",
              "      <td>16</td>\n",
              "      <td>2</td>\n",
              "      <td>512</td>\n",
              "      <td>512</td>\n",
              "      <td>512</td>\n",
              "      <td>2.011244</td>\n",
              "    </tr>\n",
              "    <tr>\n",
              "      <th>66</th>\n",
              "      <td>16</td>\n",
              "      <td>2</td>\n",
              "      <td>512</td>\n",
              "      <td>1024</td>\n",
              "      <td>512</td>\n",
              "      <td>2.167745</td>\n",
              "    </tr>\n",
              "    <tr>\n",
              "      <th>67</th>\n",
              "      <td>16</td>\n",
              "      <td>2</td>\n",
              "      <td>512</td>\n",
              "      <td>1024</td>\n",
              "      <td>1024</td>\n",
              "      <td>2.219271</td>\n",
              "    </tr>\n",
              "    <tr>\n",
              "      <th>65</th>\n",
              "      <td>16</td>\n",
              "      <td>2</td>\n",
              "      <td>512</td>\n",
              "      <td>512</td>\n",
              "      <td>1024</td>\n",
              "      <td>2.327724</td>\n",
              "    </tr>\n",
              "  </tbody>\n",
              "</table>\n",
              "<p>72 rows × 6 columns</p>\n",
              "</div>"
            ],
            "text/plain": [
              "     0  1     2     3     4  val_kfold_avg\n",
              "7    4  0  1024  1024  1024       0.363525\n",
              "20   4  2  1024   512   512       0.391689\n",
              "54  16  0  1024  1024   512       0.400870\n",
              "0    4  0   512   512   512       0.404587\n",
              "12   4  1  1024   512   512       0.406756\n",
              "..  .. ..   ...   ...   ...            ...\n",
              "56  16  1   512   512   512       1.762333\n",
              "64  16  2   512   512   512       2.011244\n",
              "66  16  2   512  1024   512       2.167745\n",
              "67  16  2   512  1024  1024       2.219271\n",
              "65  16  2   512   512  1024       2.327724\n",
              "\n",
              "[72 rows x 6 columns]"
            ]
          },
          "metadata": {
            "tags": []
          },
          "execution_count": 198
        }
      ]
    },
    {
      "cell_type": "markdown",
      "metadata": {
        "id": "V8jmZwwwf-Xe"
      },
      "source": [
        "keep the best parameters"
      ]
    },
    {
      "cell_type": "code",
      "metadata": {
        "id": "le6CpkJ01tke"
      },
      "source": [
        "best_params={'n_epochs': 100, 'batch_size': 4, 'opt_type': 0, 'net_params': [1024, 1024, 1024]}"
      ],
      "execution_count": 12,
      "outputs": []
    },
    {
      "cell_type": "code",
      "metadata": {
        "colab": {
          "base_uri": "https://localhost:8080/"
        },
        "id": "MV43IK5sFSjq",
        "outputId": "ada32869-c4b2-452e-f55b-3b39fb50f588"
      },
      "source": [
        "best_params = {'n_epochs': 100, 'batch_size': grid_result.iloc[0,0], 'opt_type': grid_result.iloc[0,1], 'net_params': list(grid_result.iloc[0,2:5].to_numpy(dtype=int)) }\n",
        "print(best_params)"
      ],
      "execution_count": null,
      "outputs": [
        {
          "output_type": "stream",
          "text": [
            "{'n_epochs': 100, 'batch_size': 4, 'opt_type': 0, 'net_params': [1024, 1024, 1024]}\n"
          ],
          "name": "stdout"
        }
      ]
    },
    {
      "cell_type": "code",
      "metadata": {
        "id": "a5XVyfqRf9jE"
      },
      "source": [
        "# best_params = grid_result.iloc[0, 1:5].to_numpy(dtype=int)\n",
        "\n",
        "#k fold training with best parameters\n",
        "train_log_df, val_log_df, best_net, best_fold = kfold_train(train_df=train_df, n_folds=5, params=best_params)\n"
      ],
      "execution_count": 13,
      "outputs": []
    },
    {
      "cell_type": "code",
      "metadata": {
        "colab": {
          "base_uri": "https://localhost:8080/",
          "height": 399
        },
        "id": "CCHKijgwzRdH",
        "outputId": "b4d80cb0-3c40-4443-8ca3-464d20282687"
      },
      "source": [
        "val_log_df\n"
      ],
      "execution_count": 14,
      "outputs": [
        {
          "output_type": "execute_result",
          "data": {
            "text/html": [
              "<div>\n",
              "<style scoped>\n",
              "    .dataframe tbody tr th:only-of-type {\n",
              "        vertical-align: middle;\n",
              "    }\n",
              "\n",
              "    .dataframe tbody tr th {\n",
              "        vertical-align: top;\n",
              "    }\n",
              "\n",
              "    .dataframe thead th {\n",
              "        text-align: right;\n",
              "    }\n",
              "</style>\n",
              "<table border=\"1\" class=\"dataframe\">\n",
              "  <thead>\n",
              "    <tr style=\"text-align: right;\">\n",
              "      <th></th>\n",
              "      <th>0</th>\n",
              "      <th>1</th>\n",
              "      <th>2</th>\n",
              "      <th>3</th>\n",
              "      <th>4</th>\n",
              "    </tr>\n",
              "  </thead>\n",
              "  <tbody>\n",
              "    <tr>\n",
              "      <th>0</th>\n",
              "      <td>2.340480</td>\n",
              "      <td>6.470174</td>\n",
              "      <td>3.195142</td>\n",
              "      <td>5.614322</td>\n",
              "      <td>2.376765</td>\n",
              "    </tr>\n",
              "    <tr>\n",
              "      <th>1</th>\n",
              "      <td>3.461021</td>\n",
              "      <td>4.579427</td>\n",
              "      <td>2.660835</td>\n",
              "      <td>2.423767</td>\n",
              "      <td>3.237534</td>\n",
              "    </tr>\n",
              "    <tr>\n",
              "      <th>2</th>\n",
              "      <td>2.310865</td>\n",
              "      <td>4.231593</td>\n",
              "      <td>2.471153</td>\n",
              "      <td>2.020681</td>\n",
              "      <td>2.278038</td>\n",
              "    </tr>\n",
              "    <tr>\n",
              "      <th>3</th>\n",
              "      <td>2.794931</td>\n",
              "      <td>5.166830</td>\n",
              "      <td>3.564053</td>\n",
              "      <td>2.197311</td>\n",
              "      <td>2.572178</td>\n",
              "    </tr>\n",
              "    <tr>\n",
              "      <th>4</th>\n",
              "      <td>2.115024</td>\n",
              "      <td>4.426914</td>\n",
              "      <td>2.688762</td>\n",
              "      <td>2.041010</td>\n",
              "      <td>4.350458</td>\n",
              "    </tr>\n",
              "    <tr>\n",
              "      <th>...</th>\n",
              "      <td>...</td>\n",
              "      <td>...</td>\n",
              "      <td>...</td>\n",
              "      <td>...</td>\n",
              "      <td>...</td>\n",
              "    </tr>\n",
              "    <tr>\n",
              "      <th>95</th>\n",
              "      <td>0.406067</td>\n",
              "      <td>1.241534</td>\n",
              "      <td>0.603761</td>\n",
              "      <td>0.323320</td>\n",
              "      <td>0.423556</td>\n",
              "    </tr>\n",
              "    <tr>\n",
              "      <th>96</th>\n",
              "      <td>0.293505</td>\n",
              "      <td>0.679797</td>\n",
              "      <td>0.450523</td>\n",
              "      <td>0.312345</td>\n",
              "      <td>0.267344</td>\n",
              "    </tr>\n",
              "    <tr>\n",
              "      <th>97</th>\n",
              "      <td>0.754890</td>\n",
              "      <td>0.865961</td>\n",
              "      <td>0.545856</td>\n",
              "      <td>0.305956</td>\n",
              "      <td>0.533975</td>\n",
              "    </tr>\n",
              "    <tr>\n",
              "      <th>98</th>\n",
              "      <td>0.630465</td>\n",
              "      <td>0.718123</td>\n",
              "      <td>0.440790</td>\n",
              "      <td>0.373570</td>\n",
              "      <td>0.256527</td>\n",
              "    </tr>\n",
              "    <tr>\n",
              "      <th>99</th>\n",
              "      <td>0.297021</td>\n",
              "      <td>0.523569</td>\n",
              "      <td>0.286785</td>\n",
              "      <td>0.315293</td>\n",
              "      <td>0.308849</td>\n",
              "    </tr>\n",
              "  </tbody>\n",
              "</table>\n",
              "<p>100 rows × 5 columns</p>\n",
              "</div>"
            ],
            "text/plain": [
              "           0         1         2         3         4\n",
              "0   2.340480  6.470174  3.195142  5.614322  2.376765\n",
              "1   3.461021  4.579427  2.660835  2.423767  3.237534\n",
              "2   2.310865  4.231593  2.471153  2.020681  2.278038\n",
              "3   2.794931  5.166830  3.564053  2.197311  2.572178\n",
              "4   2.115024  4.426914  2.688762  2.041010  4.350458\n",
              "..       ...       ...       ...       ...       ...\n",
              "95  0.406067  1.241534  0.603761  0.323320  0.423556\n",
              "96  0.293505  0.679797  0.450523  0.312345  0.267344\n",
              "97  0.754890  0.865961  0.545856  0.305956  0.533975\n",
              "98  0.630465  0.718123  0.440790  0.373570  0.256527\n",
              "99  0.297021  0.523569  0.286785  0.315293  0.308849\n",
              "\n",
              "[100 rows x 5 columns]"
            ]
          },
          "metadata": {
            "tags": []
          },
          "execution_count": 14
        }
      ]
    },
    {
      "cell_type": "code",
      "metadata": {
        "id": "uIh9slMgiGDq",
        "colab": {
          "base_uri": "https://localhost:8080/",
          "height": 404
        },
        "outputId": "098da118-4777-428c-f59a-7bba9d372434"
      },
      "source": [
        "fig, ax = plt.subplots(figsize=(10,6))\n",
        "ax.set_title(\"best model in the grid search\")\n",
        "ax.plot(train_log_df.iloc[:,best_fold], label=\"training\")\n",
        "ax.plot(val_log_df.iloc[:,best_fold], label=\"validation\")\n",
        "ax.grid(color='lightgrey' , linestyle=':')\n",
        "ax.set_ylabel(\"MSE loss\")\n",
        "ax.set_xlabel(\"epochs\")\n",
        "\n",
        "ax.legend()\n",
        "\n",
        "fig.show()"
      ],
      "execution_count": 15,
      "outputs": [
        {
          "output_type": "display_data",
          "data": {
            "image/png": "[encoded data removed]",
            "text/plain": [
              "<Figure size 720x432 with 1 Axes>"
            ]
          },
          "metadata": {
            "tags": [],
            "needs_background": "light"
          }
        }
      ]
    },
    {
      "cell_type": "markdown",
      "metadata": {
        "id": "Z2-dcYVkUsJX"
      },
      "source": [
        "# Training the best model on the entire dataset"
      ]
    },
    {
      "cell_type": "code",
      "metadata": {
        "id": "l5SNKmXUA-iB"
      },
      "source": [
        "\n",
        "batch_size = best_params['batch_size']\n",
        "n_epochs = best_params['n_epochs']\n",
        "opt_type = best_params['opt_type']\n",
        "net_params = [1] + best_params['net_params'] + [1]\n",
        "\n",
        "#create DFDataset object\n",
        "train_dataset = DFDataset(train_df, transform=composed_transform)\n",
        "test_dataset = DFDataset(test_df, transform=composed_transform)\n",
        "\n",
        "#create DataLoader object\n",
        "# train_dataloader = DataLoader(train_dataset, batch_size=4, shuffle=True, num_workers=0)\n",
        "train_dataloader = DataLoader(train_dataset, batch_size=int(batch_size), shuffle=True, num_workers=0)\n",
        "test_dataloader  = DataLoader(test_dataset,  batch_size=len(test_dataset), shuffle=False, num_workers=0)\n",
        "\n",
        "# Initialize model\n",
        "\n",
        "net = RegNet(net_params)\n",
        "net.to(device)\n",
        "\n",
        "# Define the loss function\n",
        "loss_fn = nn.MSELoss()\n",
        "\n",
        "# Define the optimizer\n",
        "if opt_type == 0:\n",
        "    optimizer = optim.Adam(net.parameters())\n",
        "elif opt_type == 1:\n",
        "    optimizer = torch_optimizer.DiffGrad(net.parameters())\n",
        "elif opt_type == 2:\n",
        "    optimizer = torch_optimizer.RAdam(net.parameters())\n",
        "\n",
        "#TRAINING LOOP\n",
        "train_loss_log, test_loss_log = training_loop(net, \n",
        "                                                optimizer,\n",
        "                                                loss_fn,\n",
        "                                                train_dataloader, \n",
        "                                                test_dataloader, \n",
        "                                                n_epochs)\n"
      ],
      "execution_count": 16,
      "outputs": []
    },
    {
      "cell_type": "code",
      "metadata": {
        "colab": {
          "base_uri": "https://localhost:8080/",
          "height": 422
        },
        "id": "g0vKpOldDiVC",
        "outputId": "4fbe18c5-a64c-4b1f-b65c-2f92db8619ae"
      },
      "source": [
        "fig, ax = plt.subplots(figsize=(10,6))\n",
        "ax.set_title(\"losses of the best model retrained in the full dataset\")\n",
        "ax.plot(train_loss_log, label=\"training\")\n",
        "ax.plot(test_loss_log, label=\"test\")\n",
        "ax.grid(color='lightgrey' , linestyle=':')\n",
        "ax.set_ylabel(\"MSE loss\")\n",
        "ax.set_xlabel(\"epochs\")\n",
        "\n",
        "ax.legend()\n",
        "\n",
        "fig.show()\n",
        "\n",
        "print(f\"Final loss in the test set: {test_loss_log[-1]}\")"
      ],
      "execution_count": 18,
      "outputs": [
        {
          "output_type": "stream",
          "text": [
            "Final loss in the test set: 0.21636903285980225\n"
          ],
          "name": "stdout"
        },
        {
          "output_type": "display_data",
          "data": {
            "image/png": "[encoded data removed]",
            "text/plain": [
              "<Figure size 720x432 with 1 Axes>"
            ]
          },
          "metadata": {
            "tags": [],
            "needs_background": "light"
          }
        }
      ]
    },
    {
      "cell_type": "markdown",
      "metadata": {
        "id": "5g8Hd6-mrJh_"
      },
      "source": [
        "## confront the function found with the dataset  "
      ]
    },
    {
      "cell_type": "code",
      "metadata": {
        "id": "vMiUy2QuMpnY"
      },
      "source": [
        "#make a linear space dataset \n",
        "N = 1000\n",
        "lin_set = np.zeros([N,2])\n",
        "lin_set[:,0] = np.linspace(np.min(test_df.input), np.max(test_df.input), N)\n",
        "lin_set[:,1] = np.linspace(np.min(test_df.label), np.max(test_df.label), N)\n",
        "lin_set_df = pd.DataFrame(lin_set)"
      ],
      "execution_count": 19,
      "outputs": []
    },
    {
      "cell_type": "code",
      "metadata": {
        "id": "1u3EZ_p5rSsv"
      },
      "source": [
        "\n",
        "lin_dataset = DFDataset(lin_set_df, transform=composed_transform)\n",
        "lin_dataloader = DataLoader(lin_dataset, batch_size=len(lin_dataset), shuffle=False, num_workers=0)\n",
        "loss_fn = nn.MSELoss()\n",
        "net.to(device)\n",
        "net.eval() # Evaluation mode (e.g. disable dropout)\n",
        "with torch.no_grad(): # Disable gradient tracking\n",
        "    for sample_batched in lin_dataloader:\n",
        "        # Move data to device\n",
        "        x_batch = sample_batched[0].to(device)\n",
        "        label_batch = sample_batched[1].to(device)\n",
        "\n",
        "        # Forward pass\n",
        "        out = net(x_batch)\n",
        "        out = out.detach().cpu().numpy()"
      ],
      "execution_count": 20,
      "outputs": []
    },
    {
      "cell_type": "code",
      "metadata": {
        "colab": {
          "base_uri": "https://localhost:8080/",
          "height": 569
        },
        "id": "hSNLnF_yMTnB",
        "outputId": "9137d0ad-58c4-4d4f-e994-a19ce616893d"
      },
      "source": [
        "fig, ax = plt.subplots(figsize=(12,9))\n",
        "ax.scatter(train_df.input, train_df.label, label='Training points')\n",
        "ax.scatter(test_df.input, test_df.label, label='Test points')\n",
        "ax.set_xlabel('input')\n",
        "ax.set_ylabel('label')\n",
        "ax.scatter(lin_set[:,0], out, marker='.', color='black', label='Output of the network')\n",
        "ax.legend()\n",
        "ax.grid(linestyle=':', color='lightgrey')\n",
        "plt.show()\n",
        "\n",
        "print()"
      ],
      "execution_count": 21,
      "outputs": [
        {
          "output_type": "display_data",
          "data": {
            "image/png": "[encoded data removed]",
            "text/plain": [
              "<Figure size 864x648 with 1 Axes>"
            ]
          },
          "metadata": {
            "tags": [],
            "needs_background": "light"
          }
        },
        {
          "output_type": "stream",
          "text": [
            "\n"
          ],
          "name": "stdout"
        }
      ]
    },
    {
      "cell_type": "markdown",
      "metadata": {
        "id": "FIOxC0lfweHK"
      },
      "source": [
        "# Visualization on the model features"
      ]
    },
    {
      "cell_type": "markdown",
      "metadata": {
        "id": "gnXS1dXZ8aH-"
      },
      "source": [
        "weigths histogram"
      ]
    },
    {
      "cell_type": "markdown",
      "metadata": {
        "id": "TKU95nv88rHq"
      },
      "source": [
        "retrieve layers from the model"
      ]
    },
    {
      "cell_type": "code",
      "metadata": {
        "id": "Y-Zh8RIC8pUr",
        "outputId": "d99b9779-3653-4b73-c1e0-cc4f4d6cc0df",
        "colab": {
          "base_uri": "https://localhost:8080/"
        }
      },
      "source": [
        "# First hidden layer\r\n",
        "fc1_w = net.fc1.weight.data.cpu().numpy()\r\n",
        "fc1_b = net.fc1.bias.data.cpu().numpy()\r\n",
        "print(np.shape(fc1_w))\r\n",
        "\r\n",
        "# Second hidden layer\r\n",
        "fc2_w = net.fc2.weight.data.cpu().numpy()\r\n",
        "fc2_b = net.fc2.bias.data.cpu().numpy()\r\n",
        "print(np.shape(fc2_w))\r\n",
        "\r\n",
        "# Third hidden layer\r\n",
        "fc3_w = net.fc2.weight.data.cpu().numpy()\r\n",
        "fc3_b = net.fc2.bias.data.cpu().numpy()\r\n",
        "print(np.shape(fc3_w))\r\n",
        "\r\n",
        "# Output layer\r\n",
        "out_w = net.out.weight.data.cpu().numpy()\r\n",
        "out_b = net.out.bias.data.cpu().numpy()"
      ],
      "execution_count": 24,
      "outputs": [
        {
          "output_type": "stream",
          "text": [
            "(1024, 1)\n",
            "(1024, 1024)\n",
            "(1024, 1024)\n"
          ],
          "name": "stdout"
        }
      ]
    },
    {
      "cell_type": "code",
      "metadata": {
        "id": "WOf1-85Q8gER",
        "outputId": "598649e2-3637-42b7-e047-96c678a0fcf0",
        "colab": {
          "base_uri": "https://localhost:8080/",
          "height": 796
        }
      },
      "source": [
        "fig, axs = plt.subplots(4, 1, figsize=(12,12))\r\n",
        "axs[0].hist(fc1_w.flatten(), 50)\r\n",
        "axs[0].set_title('First fully connected layer weights')\r\n",
        "axs[1].hist(fc2_w.flatten(), 50)\r\n",
        "axs[1].set_title('Second fully connected layer weights')\r\n",
        "axs[2].hist(fc3_w.flatten(), 50)\r\n",
        "axs[2].set_title('Second fully connected layer weights')\r\n",
        "axs[3].hist(out_w.flatten(), 50)\r\n",
        "axs[3].set_title('Output layer weights')\r\n",
        "[ax.grid() for ax in axs]\r\n",
        "plt.tight_layout()\r\n",
        "plt.show()"
      ],
      "execution_count": 27,
      "outputs": [
        {
          "output_type": "display_data",
          "data": {
            "image/png": "[encoded data removed]",
            "text/plain": [
              "<Figure size 864x864 with 4 Axes>"
            ]
          },
          "metadata": {
            "tags": [],
            "needs_background": "light"
          }
        }
      ]
    },
    {
      "cell_type": "code",
      "metadata": {
        "id": "kG8R_SqO8gTh"
      },
      "source": [
        ""
      ],
      "execution_count": null,
      "outputs": []
    },
    {
      "cell_type": "code",
      "metadata": {
        "id": "4_uLRGHp69xK"
      },
      "source": [
        "#this is for conv\r\n",
        "# kernels1 = net.lin.weight.detach().clone()\r\n",
        "\r\n",
        "# kernels1 = kernels1 - kernels1.min()\r\n",
        "# kernels1 = kernels1 / kernels1.max()\r\n",
        "# filter_img = torchvision.utils.make_grid(kernels1, nrow=8)\r\n",
        "# plt.imshow(filter_img.permute(1,2,0))"
      ],
      "execution_count": null,
      "outputs": []
    },
    {
      "cell_type": "code",
      "metadata": {
        "id": "hRZLZMQ18rOi"
      },
      "source": [
        "# import torchvision\r\n",
        "# net.to(torch.device('cpu'))\r\n",
        "\r\n",
        "# def normalize01(x):\r\n",
        "#     y = x-x.min()\r\n",
        "#     y = y/y.max()\r\n",
        "#     return y \r\n",
        "\r\n",
        "# fc1 = normalize01(net.fc1.weight.detach().clone())\r\n",
        "\r\n",
        "\r\n",
        "# fc2 = normalize01(net.fc2.weight.detach().clone())\r\n",
        "# fc3 = normalize01(net.fc3.weight.detach().clone())\r\n",
        "# out = normalize01(net.out.weight.detach().clone()).T\r\n",
        "\r\n",
        "# print(np.shape(fc1))\r\n",
        "# print(np.shape(fc2))\r\n",
        "# print(np.shape(fc3))\r\n",
        "# print(np.shape(out))\r\n",
        "\r\n",
        "# fig, ax = plt.subplots(4,1, figsize=(12,6))\r\n",
        "# # ax[0].imshow(fc1)\r\n",
        "# # ax[1].imshow(fc2)\r\n",
        "# # ax[2].imshow(fc3)\r\n",
        "# # ax[3].imshow(out)\r\n",
        "\r\n",
        "# # print(fc1)\r\n",
        "# # plt.plot(fc1)\r\n",
        "# filter_img = torchvision.utils.make_grid(fc1, nrow=8)\r\n",
        "# # plt.imshow(filter_img.permute(1,2,0))"
      ],
      "execution_count": null,
      "outputs": []
    }
  ]
}