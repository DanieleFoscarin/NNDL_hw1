{
  "nbformat": 4,
  "nbformat_minor": 0,
  "metadata": {
    "colab": {
      "name": "NNDL hw1 Regression.ipynb",
      "provenance": [],
      "collapsed_sections": [
        "bNENm7RHGFMd",
        "bZGjMokMvk2h",
        "UYZUBEMCvlpB",
        "RchPc7G6vmRB",
        "LYE6Cjhgvm3B"
      ],
      "toc_visible": true,
      "include_colab_link": true
    },
    "kernelspec": {
      "name": "python3",
      "display_name": "Python 3"
    },
    "widgets": {
      "application/vnd.jupyter.widget-state+json": {
        "846abcc7f6514d37b1aefa50e63a4653": {
          "model_module": "@jupyter-widgets/controls",
          "model_name": "HBoxModel",
          "state": {
            "_view_name": "HBoxView",
            "_dom_classes": [],
            "_model_name": "HBoxModel",
            "_view_module": "@jupyter-widgets/controls",
            "_model_module_version": "1.5.0",
            "_view_count": null,
            "_view_module_version": "1.5.0",
            "box_style": "",
            "layout": "IPY_MODEL_3d9d01b875d74954acd6cf766af82df8",
            "_model_module": "@jupyter-widgets/controls",
            "children": [
              "IPY_MODEL_0a8d5ec2315b461eb6a2acd9b9f669fd",
              "IPY_MODEL_fec53bc777ad4aacbf52427864682b50"
            ]
          }
        },
        "3d9d01b875d74954acd6cf766af82df8": {
          "model_module": "@jupyter-widgets/base",
          "model_name": "LayoutModel",
          "state": {
            "_view_name": "LayoutView",
            "grid_template_rows": null,
            "right": null,
            "justify_content": null,
            "_view_module": "@jupyter-widgets/base",
            "overflow": null,
            "_model_module_version": "1.2.0",
            "_view_count": null,
            "flex_flow": null,
            "width": null,
            "min_width": null,
            "border": null,
            "align_items": null,
            "bottom": null,
            "_model_module": "@jupyter-widgets/base",
            "top": null,
            "grid_column": null,
            "overflow_y": null,
            "overflow_x": null,
            "grid_auto_flow": null,
            "grid_area": null,
            "grid_template_columns": null,
            "flex": null,
            "_model_name": "LayoutModel",
            "justify_items": null,
            "grid_row": null,
            "max_height": null,
            "align_content": null,
            "visibility": null,
            "align_self": null,
            "height": null,
            "min_height": null,
            "padding": null,
            "grid_auto_rows": null,
            "grid_gap": null,
            "max_width": null,
            "order": null,
            "_view_module_version": "1.2.0",
            "grid_template_areas": null,
            "object_position": null,
            "object_fit": null,
            "grid_auto_columns": null,
            "margin": null,
            "display": null,
            "left": null
          }
        },
        "0a8d5ec2315b461eb6a2acd9b9f669fd": {
          "model_module": "@jupyter-widgets/controls",
          "model_name": "FloatProgressModel",
          "state": {
            "_view_name": "ProgressView",
            "style": "IPY_MODEL_2ba82a87b1944920b229ba4d715c040d",
            "_dom_classes": [],
            "description": "100%",
            "_model_name": "FloatProgressModel",
            "bar_style": "success",
            "max": 72,
            "_view_module": "@jupyter-widgets/controls",
            "_model_module_version": "1.5.0",
            "value": 72,
            "_view_count": null,
            "_view_module_version": "1.5.0",
            "orientation": "horizontal",
            "min": 0,
            "description_tooltip": null,
            "_model_module": "@jupyter-widgets/controls",
            "layout": "IPY_MODEL_be1e7341e00d425bb95db740af01da6e"
          }
        },
        "fec53bc777ad4aacbf52427864682b50": {
          "model_module": "@jupyter-widgets/controls",
          "model_name": "HTMLModel",
          "state": {
            "_view_name": "HTMLView",
            "style": "IPY_MODEL_b30e750473ca4c82aab7f5c2f67d9174",
            "_dom_classes": [],
            "description": "",
            "_model_name": "HTMLModel",
            "placeholder": "​",
            "_view_module": "@jupyter-widgets/controls",
            "_model_module_version": "1.5.0",
            "value": " 72/72 [47:54&lt;00:00, 39.92s/it]",
            "_view_count": null,
            "_view_module_version": "1.5.0",
            "description_tooltip": null,
            "_model_module": "@jupyter-widgets/controls",
            "layout": "IPY_MODEL_77f9e0d3224d455391f88aa97c29070c"
          }
        },
        "2ba82a87b1944920b229ba4d715c040d": {
          "model_module": "@jupyter-widgets/controls",
          "model_name": "ProgressStyleModel",
          "state": {
            "_view_name": "StyleView",
            "_model_name": "ProgressStyleModel",
            "description_width": "initial",
            "_view_module": "@jupyter-widgets/base",
            "_model_module_version": "1.5.0",
            "_view_count": null,
            "_view_module_version": "1.2.0",
            "bar_color": null,
            "_model_module": "@jupyter-widgets/controls"
          }
        },
        "be1e7341e00d425bb95db740af01da6e": {
          "model_module": "@jupyter-widgets/base",
          "model_name": "LayoutModel",
          "state": {
            "_view_name": "LayoutView",
            "grid_template_rows": null,
            "right": null,
            "justify_content": null,
            "_view_module": "@jupyter-widgets/base",
            "overflow": null,
            "_model_module_version": "1.2.0",
            "_view_count": null,
            "flex_flow": null,
            "width": null,
            "min_width": null,
            "border": null,
            "align_items": null,
            "bottom": null,
            "_model_module": "@jupyter-widgets/base",
            "top": null,
            "grid_column": null,
            "overflow_y": null,
            "overflow_x": null,
            "grid_auto_flow": null,
            "grid_area": null,
            "grid_template_columns": null,
            "flex": null,
            "_model_name": "LayoutModel",
            "justify_items": null,
            "grid_row": null,
            "max_height": null,
            "align_content": null,
            "visibility": null,
            "align_self": null,
            "height": null,
            "min_height": null,
            "padding": null,
            "grid_auto_rows": null,
            "grid_gap": null,
            "max_width": null,
            "order": null,
            "_view_module_version": "1.2.0",
            "grid_template_areas": null,
            "object_position": null,
            "object_fit": null,
            "grid_auto_columns": null,
            "margin": null,
            "display": null,
            "left": null
          }
        },
        "b30e750473ca4c82aab7f5c2f67d9174": {
          "model_module": "@jupyter-widgets/controls",
          "model_name": "DescriptionStyleModel",
          "state": {
            "_view_name": "StyleView",
            "_model_name": "DescriptionStyleModel",
            "description_width": "",
            "_view_module": "@jupyter-widgets/base",
            "_model_module_version": "1.5.0",
            "_view_count": null,
            "_view_module_version": "1.2.0",
            "_model_module": "@jupyter-widgets/controls"
          }
        },
        "77f9e0d3224d455391f88aa97c29070c": {
          "model_module": "@jupyter-widgets/base",
          "model_name": "LayoutModel",
          "state": {
            "_view_name": "LayoutView",
            "grid_template_rows": null,
            "right": null,
            "justify_content": null,
            "_view_module": "@jupyter-widgets/base",
            "overflow": null,
            "_model_module_version": "1.2.0",
            "_view_count": null,
            "flex_flow": null,
            "width": null,
            "min_width": null,
            "border": null,
            "align_items": null,
            "bottom": null,
            "_model_module": "@jupyter-widgets/base",
            "top": null,
            "grid_column": null,
            "overflow_y": null,
            "overflow_x": null,
            "grid_auto_flow": null,
            "grid_area": null,
            "grid_template_columns": null,
            "flex": null,
            "_model_name": "LayoutModel",
            "justify_items": null,
            "grid_row": null,
            "max_height": null,
            "align_content": null,
            "visibility": null,
            "align_self": null,
            "height": null,
            "min_height": null,
            "padding": null,
            "grid_auto_rows": null,
            "grid_gap": null,
            "max_width": null,
            "order": null,
            "_view_module_version": "1.2.0",
            "grid_template_areas": null,
            "object_position": null,
            "object_fit": null,
            "grid_auto_columns": null,
            "margin": null,
            "display": null,
            "left": null
          }
        }
      }
    },
    "accelerator": "GPU"
  },
  "cells": [
    {
      "cell_type": "markdown",
      "metadata": {
        "id": "view-in-github",
        "colab_type": "text"
      },
      "source": [
        "<a href=\"https://colab.research.google.com/github/DanieleFoscarin/NNDL_hw1/blob/main/NNDL_hw1_Regression.ipynb\" target=\"_parent\"><img src=\"https://colab.research.google.com/assets/colab-badge.svg\" alt=\"Open In Colab\"/></a>"
      ]
    },
    {
      "cell_type": "code",
      "metadata": {
        "colab": {
          "base_uri": "https://localhost:8080/"
        },
        "id": "3pXqh-KCx-1O",
        "outputId": "45175fdd-c031-4e56-c1f6-1c7a83ab4d40"
      },
      "source": [
        "from google.colab import drive\n",
        "drive.mount('/content/drive')"
      ],
      "execution_count": 1,
      "outputs": [
        {
          "output_type": "stream",
          "text": [
            "Mounted at /content/drive\n"
          ],
          "name": "stdout"
        }
      ]
    },
    {
      "cell_type": "markdown",
      "metadata": {
        "id": "rZCClsi8vrYi"
      },
      "source": [
        "# Regression task"
      ]
    },
    {
      "cell_type": "markdown",
      "metadata": {
        "id": "pHeLKNYayXKO"
      },
      "source": [
        "## Guidelines"
      ]
    },
    {
      "cell_type": "markdown",
      "metadata": {
        "id": "zs0AM6W_yoMs"
      },
      "source": [
        "* The goal is to train a neural network to approximate an unknown function:\n",
        "$$ \n",
        "f:\\mathbb{R}→\\mathbb{R} \\\\\n",
        "x↦y=f(x) \\\\\n",
        "\\text{network}(x) \\approx f(x)\n",
        "$$\n",
        "* As training point, you only have noisy measures from the target function.\n",
        "$$\n",
        "\\hat{y} = f(x) + noise\n",
        "$$\n",
        "* Consider to create a validation set from you training data, or use a k-fold cross-validation strategy. You may find useful these functions from the `scikit-learn` library:\n",
        "    - [train_test_split](https://scikit-learn.org/stable/modules/generated/sklearn.model_selection.train_test_split.html)\n",
        "    - [KFold](https://scikit-learn.org/stable/modules/generated/sklearn.model_selection.KFold.html#sklearn.model_selection.KFold) "
      ]
    },
    {
      "cell_type": "markdown",
      "metadata": {
        "id": "JpHoPt5nyocz"
      },
      "source": [
        "# Setup and Dataset"
      ]
    },
    {
      "cell_type": "markdown",
      "metadata": {
        "id": "oMzjivo30UhY"
      },
      "source": [
        "## Import libraries and data\n"
      ]
    },
    {
      "cell_type": "code",
      "metadata": {
        "id": "3ViQh-gfzxNH",
        "colab": {
          "base_uri": "https://localhost:8080/"
        },
        "outputId": "03d1d3f1-1bd3-48cb-af20-5ffe83328a1c"
      },
      "source": [
        "import numpy as np\n",
        "import pandas as pd\n",
        "import matplotlib.pyplot as plt\n",
        "\n",
        "from sklearn.model_selection import KFold\n",
        "\n",
        "from tqdm import tqdm, tqdm_notebook, notebook\n",
        "\n",
        "from itertools import product\n",
        "\n",
        "import torch\n",
        "import torch.nn as nn\n",
        "import torch.optim as optim\n",
        "from torch.utils.data import Dataset, DataLoader\n",
        "from torchvision import transforms\n",
        "\n",
        "device = torch.device(\"cuda\") if torch.cuda.is_available() else torch.device(\"cpu\")\n",
        "print(f\"Training device: {device}\")\n",
        "torch.manual_seed(0)"
      ],
      "execution_count": 2,
      "outputs": [
        {
          "output_type": "stream",
          "text": [
            "Training device: cuda\n"
          ],
          "name": "stdout"
        },
        {
          "output_type": "execute_result",
          "data": {
            "text/plain": [
              "<torch._C.Generator at 0x7fef600e00d8>"
            ]
          },
          "metadata": {
            "tags": []
          },
          "execution_count": 2
        }
      ]
    },
    {
      "cell_type": "code",
      "metadata": {
        "id": "I5jgo748S6SE"
      },
      "source": [
        "import os\n",
        "os.environ['CUDA_LAUNCH_BLOCKING'] = '1'"
      ],
      "execution_count": 54,
      "outputs": []
    },
    {
      "cell_type": "code",
      "metadata": {
        "id": "hpj6Ws17bshY",
        "colab": {
          "base_uri": "https://localhost:8080/"
        },
        "outputId": "90186825-7209-4b34-fb6f-19e56749d494"
      },
      "source": [
        "! pip install torch-optimizer\n",
        "import torch_optimizer"
      ],
      "execution_count": 4,
      "outputs": [
        {
          "output_type": "stream",
          "text": [
            "Collecting torch-optimizer\n",
            "\u001b[?25l  Downloading https://files.pythonhosted.org/packages/ce/70/ca0cd259662eef5c9448d3ecf14af880bbfe76331e4eeab7b19827d6dbe6/torch_optimizer-0.0.1a17-py3-none-any.whl (69kB)\n",
            "\r\u001b[K     |████▊                           | 10kB 23.4MB/s eta 0:00:01\r\u001b[K     |█████████▌                      | 20kB 25.0MB/s eta 0:00:01\r\u001b[K     |██████████████▏                 | 30kB 25.6MB/s eta 0:00:01\r\u001b[K     |███████████████████             | 40kB 26.6MB/s eta 0:00:01\r\u001b[K     |███████████████████████▋        | 51kB 27.6MB/s eta 0:00:01\r\u001b[K     |████████████████████████████▍   | 61kB 28.6MB/s eta 0:00:01\r\u001b[K     |████████████████████████████████| 71kB 8.7MB/s \n",
            "\u001b[?25hCollecting pytorch-ranger>=0.1.1\n",
            "  Downloading https://files.pythonhosted.org/packages/0d/70/12256257d861bbc3e176130d25be1de085ce7a9e60594064888a950f2154/pytorch_ranger-0.1.1-py3-none-any.whl\n",
            "Requirement already satisfied: torch>=1.1.0 in /usr/local/lib/python3.6/dist-packages (from torch-optimizer) (1.7.0+cu101)\n",
            "Requirement already satisfied: numpy in /usr/local/lib/python3.6/dist-packages (from torch>=1.1.0->torch-optimizer) (1.19.4)\n",
            "Requirement already satisfied: typing-extensions in /usr/local/lib/python3.6/dist-packages (from torch>=1.1.0->torch-optimizer) (3.7.4.3)\n",
            "Requirement already satisfied: future in /usr/local/lib/python3.6/dist-packages (from torch>=1.1.0->torch-optimizer) (0.16.0)\n",
            "Requirement already satisfied: dataclasses in /usr/local/lib/python3.6/dist-packages (from torch>=1.1.0->torch-optimizer) (0.8)\n",
            "Installing collected packages: pytorch-ranger, torch-optimizer\n",
            "Successfully installed pytorch-ranger-0.1.1 torch-optimizer-0.0.1a17\n"
          ],
          "name": "stdout"
        }
      ]
    },
    {
      "cell_type": "markdown",
      "metadata": {
        "id": "OjV_JeRcwrLC"
      },
      "source": [
        "The following cell of code will download the dataset and make it available in the local folder `regression_dataset`. There are two files:\n",
        "\n",
        "* `regression_dataset/train_data.csv`\n",
        "* `regression_dataset/test_data.csv`\n",
        "\n",
        "Use them to train and test your model. Each row contains two values, respactively the input and the target (label)."
      ]
    },
    {
      "cell_type": "code",
      "metadata": {
        "id": "QXCqDgEsvt96",
        "colab": {
          "base_uri": "https://localhost:8080/"
        },
        "outputId": "fc9770cf-d46a-45a5-87e2-f70910881e6e"
      },
      "source": [
        "!wget -P regression_dataset https://gitlab.dei.unipd.it/gadaleta/nnld-2020-21-lab-resources/-/raw/master/homework_1_regression_dataset/train_data.csv\n",
        "!wget -P regression_dataset https://gitlab.dei.unipd.it/gadaleta/nnld-2020-21-lab-resources/-/raw/master/homework_1_regression_dataset/test_data.csv "
      ],
      "execution_count": 8,
      "outputs": [
        {
          "output_type": "stream",
          "text": [
            "--2020-12-29 14:06:50--  https://gitlab.dei.unipd.it/gadaleta/nnld-2020-21-lab-resources/-/raw/master/homework_1_regression_dataset/train_data.csv\n",
            "Resolving gitlab.dei.unipd.it (gitlab.dei.unipd.it)... failed: Temporary failure in name resolution.\n",
            "wget: unable to resolve host address ‘gitlab.dei.unipd.it’\n",
            "--2020-12-29 14:07:07--  https://gitlab.dei.unipd.it/gadaleta/nnld-2020-21-lab-resources/-/raw/master/homework_1_regression_dataset/test_data.csv\n",
            "Resolving gitlab.dei.unipd.it (gitlab.dei.unipd.it)... 147.162.2.85\n",
            "Connecting to gitlab.dei.unipd.it (gitlab.dei.unipd.it)|147.162.2.85|:443... connected.\n",
            "HTTP request sent, awaiting response... 200 OK\n",
            "Length: 3788 (3.7K) [text/plain]\n",
            "Saving to: ‘regression_dataset/test_data.csv’\n",
            "\n",
            "test_data.csv       100%[===================>]   3.70K  --.-KB/s    in 0s      \n",
            "\n",
            "2020-12-29 14:07:07 (71.3 MB/s) - ‘regression_dataset/test_data.csv’ saved [3788/3788]\n",
            "\n"
          ],
          "name": "stdout"
        }
      ]
    },
    {
      "cell_type": "markdown",
      "metadata": {
        "id": "HB9BSxgocgiW"
      },
      "source": [
        "## Examples on the dataset"
      ]
    },
    {
      "cell_type": "markdown",
      "metadata": {
        "id": "FJRxVBksxsBw"
      },
      "source": [
        "How to load the data:"
      ]
    },
    {
      "cell_type": "code",
      "metadata": {
        "id": "a-FdEP-JxwEu"
      },
      "source": [
        "train_df = pd.read_csv('regression_dataset/train_data.csv')\n",
        "test_df = pd.read_csv('regression_dataset/test_data.csv')"
      ],
      "execution_count": 9,
      "outputs": []
    },
    {
      "cell_type": "markdown",
      "metadata": {
        "id": "UgH9AOL8yAak"
      },
      "source": [
        "How to get a specific sample:"
      ]
    },
    {
      "cell_type": "code",
      "metadata": {
        "id": "Gz8mOEUcyJdw",
        "colab": {
          "base_uri": "https://localhost:8080/"
        },
        "outputId": "1c512be9-0e50-4a54-d538-8c494d57871a"
      },
      "source": [
        "sample_index = 0\n",
        "input = train_df.iloc[sample_index]['input']\n",
        "label = train_df.iloc[sample_index]['label']\n",
        "\n",
        "print(f\"SAMPLE AT INDEX {sample_index}\")\n",
        "print(f\"INPUT: {input}\")\n",
        "print(f\"LABEL: {label}\")"
      ],
      "execution_count": 10,
      "outputs": [
        {
          "output_type": "stream",
          "text": [
            "SAMPLE AT INDEX 0\n",
            "INPUT: -4.787870188090535\n",
            "LABEL: -1.216803599957529\n"
          ],
          "name": "stdout"
        }
      ]
    },
    {
      "cell_type": "markdown",
      "metadata": {
        "id": "o4FMs2rmzXps"
      },
      "source": [
        "All training points:"
      ]
    },
    {
      "cell_type": "code",
      "metadata": {
        "id": "EXc_6w24zFEB",
        "colab": {
          "base_uri": "https://localhost:8080/",
          "height": 388
        },
        "outputId": "20695117-1390-4033-bf57-b34de8588566"
      },
      "source": [
        "fig = plt.figure(figsize=(8,6))\n",
        "plt.scatter(train_df.input, train_df.label, label='Training points')\n",
        "plt.xlabel('input')\n",
        "plt.ylabel('label')\n",
        "plt.legend()\n",
        "plt.show()"
      ],
      "execution_count": 14,
      "outputs": [
        {
          "output_type": "display_data",
          "data": {
            "image/png": "[encoded data removed]",
            "text/plain": [
              "<Figure size 576x432 with 1 Axes>"
            ]
          },
          "metadata": {
            "tags": [],
            "needs_background": "light"
          }
        }
      ]
    },
    {
      "cell_type": "markdown",
      "metadata": {
        "id": "xLLpVUYx0o1c"
      },
      "source": [
        "# Classes definition"
      ]
    },
    {
      "cell_type": "markdown",
      "metadata": {
        "id": "JmiTcBkWcxtX"
      },
      "source": [
        "## Dataset classes"
      ]
    },
    {
      "cell_type": "code",
      "metadata": {
        "id": "S6ztVuL_0oKo"
      },
      "source": [
        "class DFDataset(Dataset):\n",
        "\n",
        "  def __init__(self, data, transform=None):\n",
        "    \"\"\"\n",
        "    Args:\n",
        "        df (pandas dataframe): x and y on 0 and 1 columns.\n",
        "        transform (callable, optional): Optional transform to be applied\n",
        "            on a sample.\n",
        "    \"\"\"\n",
        "    self.transform = transform\n",
        "    self.data = data\n",
        "\n",
        "  def __len__(self):\n",
        "    return len(self.data)\n",
        "\n",
        "  def __getitem__(self, idx):\n",
        "    #return a nparray from the dataframe\n",
        "    sample = self.data.iloc[idx,:].to_numpy()\n",
        "    if self.transform:\n",
        "        sample = self.transform(sample)\n",
        "    return sample\n",
        "\n",
        "\n",
        "class ToTensor(object):\n",
        "    \"\"\"Convert sample to Tensors.\"\"\"\n",
        "\n",
        "    def __call__(self, sample):\n",
        "        x, y = sample\n",
        "        return (torch.tensor([x]).float(),\n",
        "                torch.tensor([y]).float())\n",
        "        \n",
        "composed_transform = transforms.Compose([ToTensor()])"
      ],
      "execution_count": 21,
      "outputs": []
    },
    {
      "cell_type": "markdown",
      "metadata": {
        "id": "3UsJi5v2MJEj"
      },
      "source": [
        "## NN model for the regression task:"
      ]
    },
    {
      "cell_type": "code",
      "metadata": {
        "id": "GTD8aHioL7Qf"
      },
      "source": [
        "class RegNet(nn.Module):\n",
        "    \n",
        "    def __init__(self, net_params):\n",
        "\n",
        "        super().__init__()\n",
        "        # self.net_params = net_params\n",
        "        Ni, Nh1, Nh2, Nh3, No = net_params[0], net_params[1], net_params[2], net_params[3], net_params[4]\n",
        "        # Nh1, Nh2, Nh3= net_params[1], net_params[2], net_params[3]\n",
        "        # Ni, No = 1, 1\n",
        "\n",
        "        self.fc1 = nn.Linear(in_features=Ni, out_features=Nh1)\n",
        "        self.fc2 = nn.Linear(in_features=Nh1, out_features=Nh2)\n",
        "        self.fc3 = nn.Linear(in_features=Nh2, out_features=Nh3)\n",
        "        self.out = nn.Linear(in_features=Nh3, out_features=No)\n",
        "        self.act = nn.Sigmoid()\n",
        "        \n",
        "    def forward(self, x, additional_out=False):\n",
        "        x = self.act(self.fc1(x))\n",
        "        x = self.act(self.fc2(x))\n",
        "        x = self.act(self.fc3(x))\n",
        "        x = self.out(x)\n",
        "        return x"
      ],
      "execution_count": 22,
      "outputs": []
    },
    {
      "cell_type": "markdown",
      "metadata": {
        "id": "6T1ZqFf141iX"
      },
      "source": [
        "## Training loop function:\n",
        "\n"
      ]
    },
    {
      "cell_type": "code",
      "metadata": {
        "id": "ujD0HVjr44YK"
      },
      "source": [
        "\n",
        "def training_loop(net, optimizer, loss_fn, \n",
        "                  train_dataloader, val_dataloader, n_epochs, verbose=False):\n",
        "    train_loss_log = []\n",
        "    val_loss_log = []\n",
        "    for epoch_num in range(n_epochs):\n",
        "        if verbose:\n",
        "            print(f'EPOCH {epoch_num}')\n",
        "\n",
        "        #training step\n",
        "        train_loss = []\n",
        "        net.train()\n",
        "        for sample_batched in train_dataloader:\n",
        "            x_batch = sample_batched[0].to(device)\n",
        "            label_batch = sample_batched[1].to(device)\n",
        "\n",
        "            #forward\n",
        "            out = net(x_batch)\n",
        "            #compute loss\n",
        "            loss = loss_fn(out, label_batch)\n",
        "\n",
        "            #backpropagation\n",
        "            net.zero_grad()\n",
        "            loss.backward()\n",
        "\n",
        "            #update weights\n",
        "            optimizer.step()\n",
        "\n",
        "            #save train loss\n",
        "            loss_batch = loss.detach().cpu().numpy()\n",
        "            train_loss.append(loss_batch)\n",
        "\n",
        "        #save average train loss\n",
        "        train_loss = np.mean(train_loss)\n",
        "        if verbose:\n",
        "            print(f\"AVERAGE TRAIN LOSS: {train_loss}\")\n",
        "        train_loss_log.append(train_loss)    \n",
        "\n",
        "        #validation\n",
        "        val_loss= []\n",
        "        net.eval() # Evaluation mode (e.g. disable dropout)\n",
        "        with torch.no_grad(): # Disable gradient tracking\n",
        "            for sample_batched in val_dataloader:\n",
        "                # Move data to device\n",
        "                x_batch = sample_batched[0].to(device)\n",
        "                label_batch = sample_batched[1].to(device)\n",
        "\n",
        "                # Forward pass\n",
        "                out = net(x_batch)\n",
        "\n",
        "                # Compute loss\n",
        "                loss = loss_fn(out, label_batch)\n",
        "\n",
        "                # Save val loss for this batch\n",
        "                loss_batch = loss.detach().cpu().numpy()\n",
        "                val_loss.append(loss_batch)\n",
        "\n",
        "            # Save average validation loss\n",
        "            val_loss = np.mean(val_loss)\n",
        "            if verbose:\n",
        "                print(f\"AVERAGE VAL LOSS: {np.mean(val_loss)}\")\n",
        "            val_loss_log.append(val_loss)    \n",
        "    return train_loss_log, val_loss_log"
      ],
      "execution_count": 23,
      "outputs": []
    },
    {
      "cell_type": "markdown",
      "metadata": {
        "id": "dtwBW7mJMQKb"
      },
      "source": [
        "## K-Fold training function:"
      ]
    },
    {
      "cell_type": "code",
      "metadata": {
        "id": "zYySTnfs4cIn"
      },
      "source": [
        "\n",
        "def kfold_train(train_df, n_folds, params):\n",
        "\n",
        "    batch_size = params['batch_size']\n",
        "    n_epochs = params['n_epochs']\n",
        "    opt_type = params['opt_type']\n",
        "\n",
        "    model_record = []\n",
        "    #instantiate k-fold splitter\n",
        "    myKF = KFold(n_splits=n_folds, shuffle=True, random_state=42)\n",
        "    split = myKF.split(train_df)\n",
        "\n",
        "    # val_folds = []\n",
        "    ### NB it only works with 5 folds:(\n",
        "    \n",
        "    # train_log_df = pd.DataFrame(columns=['0','1','2','3','4'])\n",
        "    # val_log_df = pd.DataFrame(columns=['0','1','2','3','4'])\n",
        "    col_list = [str(x) for x in range(n_folds)]\n",
        "    train_log_df = pd.DataFrame(columns=col_list)\n",
        "    val_log_df = pd.DataFrame(columns=col_list)\n",
        "\n",
        "    count_fold = 0\n",
        "    for train_idx, val_idx in myKF.split(train_df):\n",
        "        # print(f\"Now processing fold {count_fold}\\n\")\n",
        "        \n",
        "        #split the dataframes\n",
        "        train_fold = train_df.iloc[train_idx, :]\n",
        "        val_fold = train_df.iloc[val_idx, :] \n",
        "\n",
        "        #create DFDataset object\n",
        "        train_dataset = DFDataset(train_fold, transform=composed_transform)\n",
        "        val_dataset = DFDataset(val_fold, transform=composed_transform)\n",
        "\n",
        "        #create DataLoader object\n",
        "        train_dataloader = DataLoader(train_dataset, batch_size=int(batch_size), shuffle=True, num_workers=0)\n",
        "        # train_dataloader = DataLoader(train_dataset, batch_size=4, shuffle=True, num_workers=0)\n",
        "        val_dataloader  = DataLoader(val_dataset,  batch_size=len(val_dataset), shuffle=False, num_workers=0)\n",
        "\n",
        "        # Initialize model\n",
        "        net_params = [1] + params['net_params'] + [1]\n",
        "        # print(net_params)\n",
        "        net = RegNet(net_params)\n",
        "        net.to(device)\n",
        "\n",
        "        # Define the loss function\n",
        "        loss_fn = nn.MSELoss()\n",
        "\n",
        "        # Define the optimizer\n",
        "        if opt_type == 0:\n",
        "            optimizer = optim.Adam(net.parameters())\n",
        "        elif opt_type == 1:\n",
        "            optimizer = torch_optimizer.DiffGrad(net.parameters())\n",
        "        elif opt_type == 2:\n",
        "            optimizer = torch_optimizer.RAdam(net.parameters())\n",
        "\n",
        "        #TRAINING LOOP\n",
        "        train_loss_log, val_loss_log = training_loop(net, \n",
        "                                                     optimizer,\n",
        "                                                     loss_fn,\n",
        "                                                     train_dataloader, \n",
        "                                                     val_dataloader, \n",
        "                                                     n_epochs)\n",
        "\n",
        "        # net.cpu()\n",
        "        # del net\n",
        "        model_record.append(net)\n",
        "\n",
        "        train_log_df[str(count_fold)] = train_loss_log\n",
        "        val_log_df[str(count_fold)] = val_loss_log\n",
        "\n",
        "        count_fold += 1\n",
        "\n",
        "\n",
        "    # avg_val_folds = sum(val_folds) / len(val_folds)\n",
        "\n",
        "    #consider the mean in the last n_epochs//10 epochs\n",
        "    # best_fold = val_log_df.iloc[-1,:].argmin()\n",
        "    val_mean_result = np.zeros([n_folds,])\n",
        "    for i in range(n_folds):\n",
        "        val_mean_result[i] = val_log_df.iloc[-1*int(np.ceil(n_epochs/10)),i].mean()\n",
        "    \n",
        "    best_fold = np.argmin(val_mean_result)\n",
        "\n",
        "    # best_fold = val_log_df.iloc[-(n_epochs//10),:].mean().argmin()\n",
        "    \n",
        "    best_net = model_record[best_fold]\n",
        "\n",
        "    return train_log_df, val_log_df, best_net, best_fold\n",
        "# return train_loss_log, val_loss_log"
      ],
      "execution_count": 24,
      "outputs": []
    },
    {
      "cell_type": "markdown",
      "metadata": {
        "id": "CvX6tLvec7YF"
      },
      "source": [
        "Test the classes here for debugging"
      ]
    },
    {
      "cell_type": "code",
      "metadata": {
        "id": "wdbp1RxIN3GR",
        "colab": {
          "base_uri": "https://localhost:8080/",
          "height": 194
        },
        "outputId": "019fc57c-b347-46ed-c629-57d84faca72c"
      },
      "source": [
        "#test\n",
        "params = {'n_epochs': 5,'batch_size': 8, 'opt_type': 2, 'net_params': [128,256,128]}\n",
        "train_log_df, val_log_df, _, best_fold = kfold_train(train_df=train_df, n_folds=5, params=params)\n",
        "\n",
        "val_log_df\n"
      ],
      "execution_count": 25,
      "outputs": [
        {
          "output_type": "execute_result",
          "data": {
            "text/html": [
              "<div>\n",
              "<style scoped>\n",
              "    .dataframe tbody tr th:only-of-type {\n",
              "        vertical-align: middle;\n",
              "    }\n",
              "\n",
              "    .dataframe tbody tr th {\n",
              "        vertical-align: top;\n",
              "    }\n",
              "\n",
              "    .dataframe thead th {\n",
              "        text-align: right;\n",
              "    }\n",
              "</style>\n",
              "<table border=\"1\" class=\"dataframe\">\n",
              "  <thead>\n",
              "    <tr style=\"text-align: right;\">\n",
              "      <th></th>\n",
              "      <th>0</th>\n",
              "      <th>1</th>\n",
              "      <th>2</th>\n",
              "      <th>3</th>\n",
              "      <th>4</th>\n",
              "    </tr>\n",
              "  </thead>\n",
              "  <tbody>\n",
              "    <tr>\n",
              "      <th>0</th>\n",
              "      <td>7.448450</td>\n",
              "      <td>5.805412</td>\n",
              "      <td>7.305542</td>\n",
              "      <td>6.249238</td>\n",
              "      <td>8.722581</td>\n",
              "    </tr>\n",
              "    <tr>\n",
              "      <th>1</th>\n",
              "      <td>6.833792</td>\n",
              "      <td>5.514490</td>\n",
              "      <td>6.757502</td>\n",
              "      <td>5.731100</td>\n",
              "      <td>8.003390</td>\n",
              "    </tr>\n",
              "    <tr>\n",
              "      <th>2</th>\n",
              "      <td>6.060260</td>\n",
              "      <td>5.198063</td>\n",
              "      <td>6.076675</td>\n",
              "      <td>5.057004</td>\n",
              "      <td>7.088736</td>\n",
              "    </tr>\n",
              "    <tr>\n",
              "      <th>3</th>\n",
              "      <td>5.314198</td>\n",
              "      <td>4.969099</td>\n",
              "      <td>5.369400</td>\n",
              "      <td>4.428407</td>\n",
              "      <td>6.174942</td>\n",
              "    </tr>\n",
              "    <tr>\n",
              "      <th>4</th>\n",
              "      <td>4.630305</td>\n",
              "      <td>4.882167</td>\n",
              "      <td>4.697014</td>\n",
              "      <td>3.834244</td>\n",
              "      <td>5.323237</td>\n",
              "    </tr>\n",
              "  </tbody>\n",
              "</table>\n",
              "</div>"
            ],
            "text/plain": [
              "          0         1         2         3         4\n",
              "0  7.448450  5.805412  7.305542  6.249238  8.722581\n",
              "1  6.833792  5.514490  6.757502  5.731100  8.003390\n",
              "2  6.060260  5.198063  6.076675  5.057004  7.088736\n",
              "3  5.314198  4.969099  5.369400  4.428407  6.174942\n",
              "4  4.630305  4.882167  4.697014  3.834244  5.323237"
            ]
          },
          "metadata": {
            "tags": []
          },
          "execution_count": 25
        }
      ]
    },
    {
      "cell_type": "code",
      "metadata": {
        "colab": {
          "base_uri": "https://localhost:8080/"
        },
        "id": "kzYt97UKRsQN",
        "outputId": "fbbb13ca-791e-4560-b3a1-13e8013038ae"
      },
      "source": [
        "print(best_fold)"
      ],
      "execution_count": null,
      "outputs": [
        {
          "output_type": "stream",
          "text": [
            "3\n"
          ],
          "name": "stdout"
        }
      ]
    },
    {
      "cell_type": "markdown",
      "metadata": {
        "id": "6XjJKA6UMaet"
      },
      "source": [
        "# Grid search Training:"
      ]
    },
    {
      "cell_type": "markdown",
      "metadata": {
        "id": "L8l49KtJKu2K"
      },
      "source": [
        "try optimizers from https://pythonawesome.com/a-collection-of-optimizers-for-pytorch/\n",
        "Adam, DiffGrad, RAdam"
      ]
    },
    {
      "cell_type": "code",
      "metadata": {
        "id": "Q2gCdC4ThAVR"
      },
      "source": [
        "csv_name = \"grid_result_100ep_avg02.csv\"\n",
        "path_out = \"/content/drive/My Drive/NNDL_hw1_models/\""
      ],
      "execution_count": null,
      "outputs": []
    },
    {
      "cell_type": "code",
      "metadata": {
        "id": "EYdx1VKK4kHZ",
        "colab": {
          "base_uri": "https://localhost:8080/",
          "height": 67,
          "referenced_widgets": [
            "846abcc7f6514d37b1aefa50e63a4653",
            "3d9d01b875d74954acd6cf766af82df8",
            "0a8d5ec2315b461eb6a2acd9b9f669fd",
            "fec53bc777ad4aacbf52427864682b50",
            "2ba82a87b1944920b229ba4d715c040d",
            "be1e7341e00d425bb95db740af01da6e",
            "b30e750473ca4c82aab7f5c2f67d9174",
            "77f9e0d3224d455391f88aa97c29070c"
          ]
        },
        "outputId": "e013dfd3-128b-402d-8fb4-1db4a48fa6d7"
      },
      "source": [
        "\n",
        "\n",
        "batch_gs = np.array([4,8,16])\n",
        "opt_gs = np.array([0,1,2])\n",
        "Nh1_gs = np.array([512,1024])\n",
        "Nh2_gs = np.array([512,1024])\n",
        "Nh3_gs = np.array([512,1024])\n",
        "\n",
        "n_folds = 5\n",
        "n_epochs = 100\n",
        "\n",
        "\n",
        "grid = product(batch_gs, opt_gs, Nh1_gs, Nh2_gs, Nh3_gs)\n",
        "grid_df = pd.DataFrame(list(grid))\n",
        "val_kfold_avg = []\n",
        "#big grid search loop\n",
        "for i in notebook.tqdm(range(len(grid_df))):\n",
        "    params= {'n_epochs': n_epochs, 'batch_size': grid_df.iloc[i,0], 'opt_type': grid_df.iloc[i,1], 'net_params': list(grid_df.iloc[i,2:5]) }\n",
        "    # print(params)\n",
        "    train_log_df, val_log_df, _, _ = kfold_train(train_df=train_df, n_folds=n_folds, params=params)\n",
        "    \n",
        "    val_mean_result = np.zeros([n_folds,])\n",
        "    for i in range(n_folds):\n",
        "        val_mean_result[i] = val_log_df.iloc[-1*int(np.ceil(n_epochs/10)),i].mean()\n",
        "    val_avg = np.mean(val_mean_result)\n",
        "    val_kfold_avg.append(val_avg)\n",
        "\n",
        "    # val_kfold_avg.append(np.mean(val_log_df.iloc[-1,:].to_numpy()))\n",
        "    # print(val_kfold_avg)\n",
        "    # print(val_log_df)\n",
        "    if i%5==0:\n",
        "        grid_result = grid_df.iloc[:len(val_kfold_avg),:]\n",
        "        grid_result['val_kfold_avg'] = val_kfold_avg\n",
        "        grid_result.to_csv(path_out+csv_name)\n",
        "\n",
        "grid_result = grid_df.copy()\n",
        "grid_result['val_kfold_avg'] = val_kfold_avg\n",
        "\n",
        "\n",
        "\n",
        "\n",
        "\n",
        "grid_result.to_csv(path_out+csv_name)"
      ],
      "execution_count": null,
      "outputs": [
        {
          "output_type": "display_data",
          "data": {
            "application/vnd.jupyter.widget-view+json": {
              "model_id": "846abcc7f6514d37b1aefa50e63a4653",
              "version_minor": 0,
              "version_major": 2
            },
            "text/plain": [
              "HBox(children=(FloatProgress(value=0.0, max=72.0), HTML(value='')))"
            ]
          },
          "metadata": {
            "tags": []
          }
        },
        {
          "output_type": "stream",
          "text": [
            "\n"
          ],
          "name": "stdout"
        }
      ]
    },
    {
      "cell_type": "markdown",
      "metadata": {
        "id": "IoXnK-RpBOWy"
      },
      "source": [
        "## Analysis of the grid search results\n",
        "\n"
      ]
    },
    {
      "cell_type": "code",
      "metadata": {
        "id": "yDnCB9eX4nPU"
      },
      "source": [
        "grid_result = pd.read_csv(path_out+csv_name, usecols=[str(x) for x in range(5)]+[ 'val_kfold_avg'])\n",
        "# with pd.option_context('display.max_rows', None, 'display.max_columns', None): \n",
        "#     print(grid_result)"
      ],
      "execution_count": null,
      "outputs": []
    },
    {
      "cell_type": "code",
      "metadata": {
        "id": "EYCrxeL_f60a",
        "colab": {
          "base_uri": "https://localhost:8080/",
          "height": 404
        },
        "outputId": "6b7646e3-5c4b-4148-8ad8-258b60268a05"
      },
      "source": [
        "fig, ax = plt.subplots(figsize=(8,6))\n",
        "\n",
        "# ax.grid_result['val_kfold_avg'].plot()\n",
        "ax.plot(np.linspace(0,len(grid_result), len(grid_result)), grid_result['val_kfold_avg'])\n",
        "ax.set_title('Validation losses in the grid search')\n",
        "ax.set_xlabel('grid search param set')\n",
        "ax.set_ylabel('validation loss')\n",
        "fig.show()"
      ],
      "execution_count": null,
      "outputs": [
        {
          "output_type": "display_data",
          "data": {
            "image/png": "[encoded data removed]",
            "text/plain": [
              "<Figure size 576x432 with 1 Axes>"
            ]
          },
          "metadata": {
            "tags": [],
            "needs_background": "light"
          }
        }
      ]
    },
    {
      "cell_type": "code",
      "metadata": {
        "id": "CxexIC1xCApj",
        "colab": {
          "base_uri": "https://localhost:8080/",
          "height": 399
        },
        "outputId": "b53f39db-d44a-416f-9695-56f15074b0cf"
      },
      "source": [
        "#sort to have the better performance at first\n",
        "grid_result = grid_result.sort_values(by='val_kfold_avg', )\n",
        "grid_result"
      ],
      "execution_count": null,
      "outputs": [
        {
          "output_type": "execute_result",
          "data": {
            "text/html": [
              "<div>\n",
              "<style scoped>\n",
              "    .dataframe tbody tr th:only-of-type {\n",
              "        vertical-align: middle;\n",
              "    }\n",
              "\n",
              "    .dataframe tbody tr th {\n",
              "        vertical-align: top;\n",
              "    }\n",
              "\n",
              "    .dataframe thead th {\n",
              "        text-align: right;\n",
              "    }\n",
              "</style>\n",
              "<table border=\"1\" class=\"dataframe\">\n",
              "  <thead>\n",
              "    <tr style=\"text-align: right;\">\n",
              "      <th></th>\n",
              "      <th>0</th>\n",
              "      <th>1</th>\n",
              "      <th>2</th>\n",
              "      <th>3</th>\n",
              "      <th>4</th>\n",
              "      <th>val_kfold_avg</th>\n",
              "    </tr>\n",
              "  </thead>\n",
              "  <tbody>\n",
              "    <tr>\n",
              "      <th>7</th>\n",
              "      <td>4</td>\n",
              "      <td>0</td>\n",
              "      <td>1024</td>\n",
              "      <td>1024</td>\n",
              "      <td>1024</td>\n",
              "      <td>0.363525</td>\n",
              "    </tr>\n",
              "    <tr>\n",
              "      <th>20</th>\n",
              "      <td>4</td>\n",
              "      <td>2</td>\n",
              "      <td>1024</td>\n",
              "      <td>512</td>\n",
              "      <td>512</td>\n",
              "      <td>0.391689</td>\n",
              "    </tr>\n",
              "    <tr>\n",
              "      <th>54</th>\n",
              "      <td>16</td>\n",
              "      <td>0</td>\n",
              "      <td>1024</td>\n",
              "      <td>1024</td>\n",
              "      <td>512</td>\n",
              "      <td>0.400870</td>\n",
              "    </tr>\n",
              "    <tr>\n",
              "      <th>0</th>\n",
              "      <td>4</td>\n",
              "      <td>0</td>\n",
              "      <td>512</td>\n",
              "      <td>512</td>\n",
              "      <td>512</td>\n",
              "      <td>0.404587</td>\n",
              "    </tr>\n",
              "    <tr>\n",
              "      <th>12</th>\n",
              "      <td>4</td>\n",
              "      <td>1</td>\n",
              "      <td>1024</td>\n",
              "      <td>512</td>\n",
              "      <td>512</td>\n",
              "      <td>0.406756</td>\n",
              "    </tr>\n",
              "    <tr>\n",
              "      <th>...</th>\n",
              "      <td>...</td>\n",
              "      <td>...</td>\n",
              "      <td>...</td>\n",
              "      <td>...</td>\n",
              "      <td>...</td>\n",
              "      <td>...</td>\n",
              "    </tr>\n",
              "    <tr>\n",
              "      <th>56</th>\n",
              "      <td>16</td>\n",
              "      <td>1</td>\n",
              "      <td>512</td>\n",
              "      <td>512</td>\n",
              "      <td>512</td>\n",
              "      <td>1.762333</td>\n",
              "    </tr>\n",
              "    <tr>\n",
              "      <th>64</th>\n",
              "      <td>16</td>\n",
              "      <td>2</td>\n",
              "      <td>512</td>\n",
              "      <td>512</td>\n",
              "      <td>512</td>\n",
              "      <td>2.011244</td>\n",
              "    </tr>\n",
              "    <tr>\n",
              "      <th>66</th>\n",
              "      <td>16</td>\n",
              "      <td>2</td>\n",
              "      <td>512</td>\n",
              "      <td>1024</td>\n",
              "      <td>512</td>\n",
              "      <td>2.167745</td>\n",
              "    </tr>\n",
              "    <tr>\n",
              "      <th>67</th>\n",
              "      <td>16</td>\n",
              "      <td>2</td>\n",
              "      <td>512</td>\n",
              "      <td>1024</td>\n",
              "      <td>1024</td>\n",
              "      <td>2.219271</td>\n",
              "    </tr>\n",
              "    <tr>\n",
              "      <th>65</th>\n",
              "      <td>16</td>\n",
              "      <td>2</td>\n",
              "      <td>512</td>\n",
              "      <td>512</td>\n",
              "      <td>1024</td>\n",
              "      <td>2.327724</td>\n",
              "    </tr>\n",
              "  </tbody>\n",
              "</table>\n",
              "<p>72 rows × 6 columns</p>\n",
              "</div>"
            ],
            "text/plain": [
              "     0  1     2     3     4  val_kfold_avg\n",
              "7    4  0  1024  1024  1024       0.363525\n",
              "20   4  2  1024   512   512       0.391689\n",
              "54  16  0  1024  1024   512       0.400870\n",
              "0    4  0   512   512   512       0.404587\n",
              "12   4  1  1024   512   512       0.406756\n",
              "..  .. ..   ...   ...   ...            ...\n",
              "56  16  1   512   512   512       1.762333\n",
              "64  16  2   512   512   512       2.011244\n",
              "66  16  2   512  1024   512       2.167745\n",
              "67  16  2   512  1024  1024       2.219271\n",
              "65  16  2   512   512  1024       2.327724\n",
              "\n",
              "[72 rows x 6 columns]"
            ]
          },
          "metadata": {
            "tags": []
          },
          "execution_count": 198
        }
      ]
    },
    {
      "cell_type": "markdown",
      "metadata": {
        "id": "V8jmZwwwf-Xe"
      },
      "source": [
        "keep the best parameters"
      ]
    },
    {
      "cell_type": "code",
      "metadata": {
        "id": "le6CpkJ01tke"
      },
      "source": [
        "best_params={'n_epochs': 100, 'batch_size': 4, 'opt_type': 0, 'net_params': [1024, 1024, 1024]}"
      ],
      "execution_count": 18,
      "outputs": []
    },
    {
      "cell_type": "code",
      "metadata": {
        "colab": {
          "base_uri": "https://localhost:8080/"
        },
        "id": "MV43IK5sFSjq",
        "outputId": "ada32869-c4b2-452e-f55b-3b39fb50f588"
      },
      "source": [
        "best_params = {'n_epochs': 100, 'batch_size': grid_result.iloc[0,0], 'opt_type': grid_result.iloc[0,1], 'net_params': list(grid_result.iloc[0,2:5].to_numpy(dtype=int)) }\n",
        "print(best_params)"
      ],
      "execution_count": null,
      "outputs": [
        {
          "output_type": "stream",
          "text": [
            "{'n_epochs': 100, 'batch_size': 4, 'opt_type': 0, 'net_params': [1024, 1024, 1024]}\n"
          ],
          "name": "stdout"
        }
      ]
    },
    {
      "cell_type": "code",
      "metadata": {
        "id": "a5XVyfqRf9jE"
      },
      "source": [
        "# best_params = grid_result.iloc[0, 1:5].to_numpy(dtype=int)\n",
        "\n",
        "train_log_df, val_log_df, best_net, best_fold = kfold_train(train_df=train_df, n_folds=5, params=best_params)\n",
        "# best_fold = val_log_df.iloc[-1,:].argmin()"
      ],
      "execution_count": 26,
      "outputs": []
    },
    {
      "cell_type": "code",
      "metadata": {
        "colab": {
          "base_uri": "https://localhost:8080/",
          "height": 399
        },
        "id": "CCHKijgwzRdH",
        "outputId": "1b43dce2-4901-40b7-f60c-c792a912f318"
      },
      "source": [
        "val_log_df\n"
      ],
      "execution_count": 27,
      "outputs": [
        {
          "output_type": "execute_result",
          "data": {
            "text/html": [
              "<div>\n",
              "<style scoped>\n",
              "    .dataframe tbody tr th:only-of-type {\n",
              "        vertical-align: middle;\n",
              "    }\n",
              "\n",
              "    .dataframe tbody tr th {\n",
              "        vertical-align: top;\n",
              "    }\n",
              "\n",
              "    .dataframe thead th {\n",
              "        text-align: right;\n",
              "    }\n",
              "</style>\n",
              "<table border=\"1\" class=\"dataframe\">\n",
              "  <thead>\n",
              "    <tr style=\"text-align: right;\">\n",
              "      <th></th>\n",
              "      <th>0</th>\n",
              "      <th>1</th>\n",
              "      <th>2</th>\n",
              "      <th>3</th>\n",
              "      <th>4</th>\n",
              "    </tr>\n",
              "  </thead>\n",
              "  <tbody>\n",
              "    <tr>\n",
              "      <th>0</th>\n",
              "      <td>1.734555</td>\n",
              "      <td>5.934887</td>\n",
              "      <td>3.189819</td>\n",
              "      <td>2.752639</td>\n",
              "      <td>2.448254</td>\n",
              "    </tr>\n",
              "    <tr>\n",
              "      <th>1</th>\n",
              "      <td>2.058665</td>\n",
              "      <td>6.391023</td>\n",
              "      <td>3.005953</td>\n",
              "      <td>2.473196</td>\n",
              "      <td>2.869258</td>\n",
              "    </tr>\n",
              "    <tr>\n",
              "      <th>2</th>\n",
              "      <td>3.218344</td>\n",
              "      <td>5.753088</td>\n",
              "      <td>3.023757</td>\n",
              "      <td>2.196316</td>\n",
              "      <td>3.886791</td>\n",
              "    </tr>\n",
              "    <tr>\n",
              "      <th>3</th>\n",
              "      <td>3.138462</td>\n",
              "      <td>5.389241</td>\n",
              "      <td>4.158001</td>\n",
              "      <td>2.402773</td>\n",
              "      <td>2.348925</td>\n",
              "    </tr>\n",
              "    <tr>\n",
              "      <th>4</th>\n",
              "      <td>3.489235</td>\n",
              "      <td>4.046811</td>\n",
              "      <td>3.111537</td>\n",
              "      <td>2.042838</td>\n",
              "      <td>2.565624</td>\n",
              "    </tr>\n",
              "    <tr>\n",
              "      <th>...</th>\n",
              "      <td>...</td>\n",
              "      <td>...</td>\n",
              "      <td>...</td>\n",
              "      <td>...</td>\n",
              "      <td>...</td>\n",
              "    </tr>\n",
              "    <tr>\n",
              "      <th>95</th>\n",
              "      <td>0.212380</td>\n",
              "      <td>0.820080</td>\n",
              "      <td>0.524460</td>\n",
              "      <td>0.243071</td>\n",
              "      <td>0.332952</td>\n",
              "    </tr>\n",
              "    <tr>\n",
              "      <th>96</th>\n",
              "      <td>0.275190</td>\n",
              "      <td>1.536725</td>\n",
              "      <td>0.249994</td>\n",
              "      <td>0.280749</td>\n",
              "      <td>1.045005</td>\n",
              "    </tr>\n",
              "    <tr>\n",
              "      <th>97</th>\n",
              "      <td>0.600620</td>\n",
              "      <td>0.893119</td>\n",
              "      <td>0.487657</td>\n",
              "      <td>0.248212</td>\n",
              "      <td>0.347060</td>\n",
              "    </tr>\n",
              "    <tr>\n",
              "      <th>98</th>\n",
              "      <td>0.347683</td>\n",
              "      <td>0.781439</td>\n",
              "      <td>0.898418</td>\n",
              "      <td>0.356228</td>\n",
              "      <td>1.286106</td>\n",
              "    </tr>\n",
              "    <tr>\n",
              "      <th>99</th>\n",
              "      <td>0.262570</td>\n",
              "      <td>0.583369</td>\n",
              "      <td>0.895892</td>\n",
              "      <td>0.252762</td>\n",
              "      <td>0.311756</td>\n",
              "    </tr>\n",
              "  </tbody>\n",
              "</table>\n",
              "<p>100 rows × 5 columns</p>\n",
              "</div>"
            ],
            "text/plain": [
              "           0         1         2         3         4\n",
              "0   1.734555  5.934887  3.189819  2.752639  2.448254\n",
              "1   2.058665  6.391023  3.005953  2.473196  2.869258\n",
              "2   3.218344  5.753088  3.023757  2.196316  3.886791\n",
              "3   3.138462  5.389241  4.158001  2.402773  2.348925\n",
              "4   3.489235  4.046811  3.111537  2.042838  2.565624\n",
              "..       ...       ...       ...       ...       ...\n",
              "95  0.212380  0.820080  0.524460  0.243071  0.332952\n",
              "96  0.275190  1.536725  0.249994  0.280749  1.045005\n",
              "97  0.600620  0.893119  0.487657  0.248212  0.347060\n",
              "98  0.347683  0.781439  0.898418  0.356228  1.286106\n",
              "99  0.262570  0.583369  0.895892  0.252762  0.311756\n",
              "\n",
              "[100 rows x 5 columns]"
            ]
          },
          "metadata": {
            "tags": []
          },
          "execution_count": 27
        }
      ]
    },
    {
      "cell_type": "code",
      "metadata": {
        "id": "uIh9slMgiGDq",
        "colab": {
          "base_uri": "https://localhost:8080/",
          "height": 404
        },
        "outputId": "7f5ef4af-a3a6-428d-8806-b306240f1747"
      },
      "source": [
        "fig, ax = plt.subplots(figsize=(10,6))\n",
        "ax.set_title(\"best model in the grid search\")\n",
        "ax.plot(train_log_df.iloc[:,best_fold], label=\"training\")\n",
        "ax.plot(val_log_df.iloc[:,best_fold], label=\"validation\")\n",
        "ax.grid(color='lightgrey' , linestyle=':')\n",
        "ax.set_ylabel(\"MSE loss\")\n",
        "ax.set_xlabel(\"epochs\")\n",
        "\n",
        "ax.legend()\n",
        "\n",
        "fig.show()"
      ],
      "execution_count": 29,
      "outputs": [
        {
          "output_type": "display_data",
          "data": {
            "image/png": "[encoded data removed]",
            "text/plain": [
              "<Figure size 720x432 with 1 Axes>"
            ]
          },
          "metadata": {
            "tags": [],
            "needs_background": "light"
          }
        }
      ]
    },
    {
      "cell_type": "markdown",
      "metadata": {
        "id": "Z2-dcYVkUsJX"
      },
      "source": [
        "# Training the best model on the entire dataset"
      ]
    },
    {
      "cell_type": "code",
      "metadata": {
        "id": "l5SNKmXUA-iB"
      },
      "source": [
        "\n",
        "batch_size = best_params['batch_size']\n",
        "n_epochs = best_params['n_epochs']\n",
        "opt_type = best_params['opt_type']\n",
        "net_params = [1] + best_params['net_params'] + [1]\n",
        "\n",
        "#create DFDataset object\n",
        "train_dataset = DFDataset(train_df, transform=composed_transform)\n",
        "test_dataset = DFDataset(test_df, transform=composed_transform)\n",
        "\n",
        "#create DataLoader object\n",
        "# train_dataloader = DataLoader(train_dataset, batch_size=4, shuffle=True, num_workers=0)\n",
        "train_dataloader = DataLoader(train_dataset, batch_size=int(batch_size), shuffle=True, num_workers=0)\n",
        "test_dataloader  = DataLoader(test_dataset,  batch_size=len(test_dataset), shuffle=False, num_workers=0)\n",
        "\n",
        "# Initialize model\n",
        "\n",
        "net = RegNet(net_params)\n",
        "net.to(device)\n",
        "\n",
        "# Define the loss function\n",
        "loss_fn = nn.MSELoss()\n",
        "\n",
        "# Define the optimizer\n",
        "if opt_type == 0:\n",
        "    optimizer = optim.Adam(net.parameters())\n",
        "elif opt_type == 1:\n",
        "    optimizer = torch_optimizer.DiffGrad(net.parameters())\n",
        "elif opt_type == 2:\n",
        "    optimizer = torch_optimizer.RAdam(net.parameters())\n",
        "\n",
        "#TRAINING LOOP\n",
        "train_loss_log, test_loss_log = training_loop(net, \n",
        "                                                optimizer,\n",
        "                                                loss_fn,\n",
        "                                                train_dataloader, \n",
        "                                                test_dataloader, \n",
        "                                                n_epochs)\n"
      ],
      "execution_count": 30,
      "outputs": []
    },
    {
      "cell_type": "code",
      "metadata": {
        "colab": {
          "base_uri": "https://localhost:8080/",
          "height": 422
        },
        "id": "g0vKpOldDiVC",
        "outputId": "0b87cf62-d83e-4409-ca33-e82639e9d380"
      },
      "source": [
        "fig, ax = plt.subplots(figsize=(10,6))\n",
        "ax.set_title(\"log of the best model retrained in the full dataset\")\n",
        "ax.plot(train_loss_log, label=\"training\")\n",
        "ax.plot(test_loss_log, label=\"test\")\n",
        "ax.grid(color='lightgrey' , linestyle=':')\n",
        "ax.set_ylabel(\"MSE loss\")\n",
        "ax.set_xlabel(\"epochs\")\n",
        "\n",
        "ax.legend()\n",
        "\n",
        "fig.show()\n",
        "\n",
        "print(f\"Final loss in the test set: {test_loss_log[-1]}\")"
      ],
      "execution_count": 32,
      "outputs": [
        {
          "output_type": "stream",
          "text": [
            "Final loss in the test set: 0.32125166058540344\n"
          ],
          "name": "stdout"
        },
        {
          "output_type": "display_data",
          "data": {
            "image/png": "[encoded data removed]",
            "text/plain": [
              "<Figure size 720x432 with 1 Axes>"
            ]
          },
          "metadata": {
            "tags": [],
            "needs_background": "light"
          }
        }
      ]
    },
    {
      "cell_type": "markdown",
      "metadata": {
        "id": "5g8Hd6-mrJh_"
      },
      "source": [
        "## confront the function found with the dataset  "
      ]
    },
    {
      "cell_type": "code",
      "metadata": {
        "id": "vMiUy2QuMpnY"
      },
      "source": [
        "#make a linear space dataset \n",
        "N = 1000\n",
        "lin_set = np.zeros([N,2])\n",
        "lin_set[:,0] = np.linspace(np.min(test_df.input), np.max(test_df.input), N)\n",
        "lin_set[:,1] = np.linspace(np.min(test_df.label), np.max(test_df.label), N)\n",
        "lin_set_df = pd.DataFrame(lin_set)"
      ],
      "execution_count": 56,
      "outputs": []
    },
    {
      "cell_type": "code",
      "metadata": {
        "id": "1u3EZ_p5rSsv"
      },
      "source": [
        "\n",
        "lin_dataset = DFDataset(lin_set_df, transform=composed_transform)\n",
        "lin_dataloader = DataLoader(lin_dataset, batch_size=len(lin_dataset), shuffle=False, num_workers=0)\n",
        "loss_fn = nn.MSELoss()\n",
        "net.to(device)\n",
        "net.eval() # Evaluation mode (e.g. disable dropout)\n",
        "with torch.no_grad(): # Disable gradient tracking\n",
        "    for sample_batched in lin_dataloader:\n",
        "        # Move data to device\n",
        "        x_batch = sample_batched[0].to(device)\n",
        "        label_batch = sample_batched[1].to(device)\n",
        "\n",
        "        # Forward pass\n",
        "        out = net(x_batch)\n",
        "        out = out.detach().cpu().numpy()"
      ],
      "execution_count": 58,
      "outputs": []
    },
    {
      "cell_type": "code",
      "metadata": {
        "colab": {
          "base_uri": "https://localhost:8080/",
          "height": 569
        },
        "id": "hSNLnF_yMTnB",
        "outputId": "ebe07b61-013f-4362-c031-50b59fcae6e1"
      },
      "source": [
        "fig, ax = plt.subplots(figsize=(12,9))\n",
        "ax.scatter(train_df.input, train_df.label, label='Training points')\n",
        "ax.scatter(test_df.input, test_df.label, label='Test points')\n",
        "ax.set_xlabel('input')\n",
        "ax.set_ylabel('label')\n",
        "ax.scatter(lin_set[:,0], out, marker='.', color='black', label='Output of the network')\n",
        "ax.legend()\n",
        "ax.grid(linestyle=':', color='lightgrey')\n",
        "plt.show()\n",
        "\n",
        "print()"
      ],
      "execution_count": 59,
      "outputs": [
        {
          "output_type": "display_data",
          "data": {
            "image/png": "[encoded data removed]",
            "text/plain": [
              "<Figure size 864x648 with 1 Axes>"
            ]
          },
          "metadata": {
            "tags": [],
            "needs_background": "light"
          }
        },
        {
          "output_type": "stream",
          "text": [
            "\n"
          ],
          "name": "stdout"
        }
      ]
    },
    {
      "cell_type": "markdown",
      "metadata": {
        "id": "FIOxC0lfweHK"
      },
      "source": [
        "# Visualization on the model features"
      ]
    },
    {
      "cell_type": "code",
      "metadata": {
        "id": "4_uLRGHp69xK"
      },
      "source": [
        "#this is for conv\r\n",
        "# kernels1 = net.lin.weight.detach().clone()\r\n",
        "\r\n",
        "# kernels1 = kernels1 - kernels1.min()\r\n",
        "# kernels1 = kernels1 / kernels1.max()\r\n",
        "# filter_img = torchvision.utils.make_grid(kernels1, nrow=8)\r\n",
        "# plt.imshow(filter_img.permute(1,2,0))"
      ],
      "execution_count": 37,
      "outputs": []
    },
    {
      "cell_type": "code",
      "metadata": {
        "id": "hRZLZMQ18rOi",
        "outputId": "59463f0a-af94-457b-9beb-3c572790f549",
        "colab": {
          "base_uri": "https://localhost:8080/",
          "height": 449
        }
      },
      "source": [
        "import torchvision\r\n",
        "net.to(torch.device('cpu'))\r\n",
        "\r\n",
        "def normalize01(x):\r\n",
        "    y = x-x.min()\r\n",
        "    y = y/y.max()\r\n",
        "    return y \r\n",
        "\r\n",
        "fc1 = normalize01(net.fc1.weight.detach().clone())\r\n",
        "\r\n",
        "\r\n",
        "fc2 = normalize01(net.fc2.weight.detach().clone())\r\n",
        "fc3 = normalize01(net.fc3.weight.detach().clone())\r\n",
        "out = normalize01(net.out.weight.detach().clone()).T\r\n",
        "\r\n",
        "print(np.shape(fc1))\r\n",
        "print(np.shape(fc2))\r\n",
        "print(np.shape(fc3))\r\n",
        "print(np.shape(out))\r\n",
        "\r\n",
        "fig, ax = plt.subplots(4,1, figsize=(12,6))\r\n",
        "# ax[0].imshow(fc1)\r\n",
        "# ax[1].imshow(fc2)\r\n",
        "# ax[2].imshow(fc3)\r\n",
        "# ax[3].imshow(out)\r\n",
        "\r\n",
        "# print(fc1)\r\n",
        "# plt.plot(fc1)\r\n",
        "filter_img = torchvision.utils.make_grid(fc1, nrow=8)\r\n",
        "# plt.imshow(filter_img.permute(1,2,0))"
      ],
      "execution_count": 53,
      "outputs": [
        {
          "output_type": "stream",
          "text": [
            "torch.Size([1024, 1])\n",
            "torch.Size([1024, 1024])\n",
            "torch.Size([1024, 1024])\n",
            "torch.Size([1024, 1])\n"
          ],
          "name": "stdout"
        },
        {
          "output_type": "display_data",
          "data": {
            "image/png": "[encoded data removed]",
            "text/plain": [
              "<Figure size 864x432 with 4 Axes>"
            ]
          },
          "metadata": {
            "tags": [],
            "needs_background": "light"
          }
        }
      ]
    }
  ]
}